{
  "nbformat": 4,
  "nbformat_minor": 0,
  "metadata": {
    "colab": {
      "name": "assignment01.ipynb",
      "provenance": []
    },
    "kernelspec": {
      "name": "python3",
      "display_name": "Python 3"
    },
    "language_info": {
      "name": "python"
    }
  },
  "cells": [
    {
      "cell_type": "markdown",
      "source": [
        "# Proyecto final - Avance 1\n",
        "\n",
        "Oscar Damián Vela Noyola A00821831\n",
        "\n",
        "María Cristina Hernández Cardiel A01361588"
      ],
      "metadata": {
        "id": "yLYx4gvvZ1qp"
      }
    },
    {
      "cell_type": "markdown",
      "source": [
        "Nombre que caracteriza el conjunto de datos: *Índice de la calidad del aire en México*\n",
        "\n",
        "Organización que lo generó: *Secretaría del Medio Ambiente de la Ciudad de México (SEDEMA)*\n",
        "\n",
        "Enlace: http://www.aire.cdmx.gob.mx/default.php?opc=%27aKBhnmI=%27&opcion=aw==\n",
        "\n",
        "Muestra datos del ozono, dióxido de azufre, dióxido de nitrógeno, monóxido de carbono, PM10 y PM25 del noroeste, noreste, centro, suroeste y sureste de México cada hora de cualquier año (Escogeremos el 2021, pues es el año completo más reciente). "
      ],
      "metadata": {
        "id": "_5Y0IJNDaQJx"
      }
    },
    {
      "cell_type": "markdown",
      "source": [
        "¿Se comporta igual la contaminación en todo México?\n",
        "\n",
        "¿Hay variaciones en el tiempo?\n",
        "\n",
        "¿La contaminación depende de la hora?\n",
        "\n",
        "¿La contaminación depende de la estación?\n",
        "\n",
        "Si las preguntas anteriores fueron que sí depende, ¿debería de haber más restricciones ambientales a las empresas en cierto momento del día o del año?\n",
        "\n",
        "¿Hay alguna correlación entre las variables? ¿La correlación es inversamente proporcional o proporcional?\n",
        "\n",
        "¿Cómo se comporta la contaminación a través de los años? "
      ],
      "metadata": {
        "id": "uU9JLmo5b_6o"
      }
    },
    {
      "cell_type": "markdown",
      "source": [
        "**¿Quiénes se podrían interesar en las respuestas a las preguntas anteriores?**\n",
        "\n",
        "*Principalmente la SEDEMA, las empresas que buscan tener un impacto ambiental, todas las personas para que puedan concientizarse y tener un estilo de vida más sustentable*"
      ],
      "metadata": {
        "id": "9Rqfq6hDdaUI"
      }
    }
  ]
}