{
  "nbformat": 4,
  "nbformat_minor": 0,
  "metadata": {
    "colab": {
      "name": "assignment01.ipynb",
      "provenance": []
    },
    "kernelspec": {
      "name": "python3",
      "display_name": "Python 3"
    },
    "language_info": {
      "name": "python"
    }
  },
  "cells": [
    {
      "cell_type": "markdown",
      "source": [
        "# Proyecto final - Avance 1\n",
        "\n",
        "Oscar Damián Vela Noyola A00821831\n",
        "\n",
        "María Cristina Hernández Cardiel A01361588"
      ],
      "metadata": {
        "id": "yLYx4gvvZ1qp"
      }
    },
    {
      "cell_type": "markdown",
      "source": [
        "Usaremos la metodología CRISP ágil, para poder regresar a pasos anteriores si es que no se validan los resultados. \n",
        "\n",
        "**Entendimiento del negocio**\n",
        "\n",
        "*El cliente quiere ver si hay relación con los datos obtenidos. Se necesita ver si las diferentes partes de la república se comportan igual. Se usarán análisis estadísticos en Python.*\n",
        "\n",
        "**Entendimiento de los datos**\n",
        "\n",
        "*Conseguimos los datos. Examinamos que no hayan datos erróneos o falsos. Definir el tipo de datos*\n",
        "\n",
        "**Preparación de los datos**\n",
        "\n",
        "*Quitar datos basura. Visualizar los datos en tablas para escoger tecnología*\n",
        "\n",
        "**Modelar**\n",
        "\n",
        "*Con respecto al paso anterior, verificar si la mejor tecnología es una regresión lineal o logarítmica, o redes neuronales. Crear diferentes modelos y escoger índices de rendimiento*\n",
        "\n",
        "**Evaluación**\n",
        "\n",
        "*Repasar proceso, documentar y checar errores*\n",
        "\n",
        "**Acción**\n",
        "\n",
        "*Llevar a cabo. Monitorear. Estandarizar.*"
      ],
      "metadata": {
        "id": "y9zqnOXxfsX2"
      }
    },
    {
      "cell_type": "code",
      "source": [
        "Enlace de MIRO: https://miro.com/app/board/uXjVPTUaZe8=/?share_link_id=934120494120"
      ],
      "metadata": {
        "id": "cBggVQ6Eibae"
      },
      "execution_count": null,
      "outputs": []
    }
  ]
}