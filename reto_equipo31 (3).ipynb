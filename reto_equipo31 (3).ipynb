{
  "nbformat": 4,
  "nbformat_minor": 0,
  "metadata": {
    "colab": {
      "provenance": []
    },
    "kernelspec": {
      "name": "python3",
      "display_name": "Python 3"
    },
    "language_info": {
      "name": "python"
    }
  },
  "cells": [
    {
      "cell_type": "markdown",
      "source": [
        "#RETO: Entrega 1\n",
        "##Análisis de datos\n",
        "###Oscar Damián Vela Noyola - A00821831\n",
        "###María Cristina Hernandez Cardiel - A01361588\n",
        "\n",
        "16/11/2022"
      ],
      "metadata": {
        "id": "-TOzPDaluJ7n"
      }
    },
    {
      "cell_type": "markdown",
      "source": [
        "### Lectura de los datos"
      ],
      "metadata": {
        "id": "4or9zho9uOAv"
      }
    },
    {
      "cell_type": "code",
      "source": [
        "from google.colab import files\n",
        "uploaded = files.upload()"
      ],
      "metadata": {
        "id": "SiHYpBbzuQ0w",
        "outputId": "eea8579c-732e-4081-e692-1b10cefb190e",
        "colab": {
          "base_uri": "https://localhost:8080/",
          "height": 74
        }
      },
      "execution_count": 3,
      "outputs": [
        {
          "output_type": "display_data",
          "data": {
            "text/plain": [
              "<IPython.core.display.HTML object>"
            ],
            "text/html": [
              "\n",
              "     <input type=\"file\" id=\"files-eafb78cc-7449-4670-8340-6f51926cd6e2\" name=\"files[]\" multiple disabled\n",
              "        style=\"border:none\" />\n",
              "     <output id=\"result-eafb78cc-7449-4670-8340-6f51926cd6e2\">\n",
              "      Upload widget is only available when the cell has been executed in the\n",
              "      current browser session. Please rerun this cell to enable.\n",
              "      </output>\n",
              "      <script>// Copyright 2017 Google LLC\n",
              "//\n",
              "// Licensed under the Apache License, Version 2.0 (the \"License\");\n",
              "// you may not use this file except in compliance with the License.\n",
              "// You may obtain a copy of the License at\n",
              "//\n",
              "//      http://www.apache.org/licenses/LICENSE-2.0\n",
              "//\n",
              "// Unless required by applicable law or agreed to in writing, software\n",
              "// distributed under the License is distributed on an \"AS IS\" BASIS,\n",
              "// WITHOUT WARRANTIES OR CONDITIONS OF ANY KIND, either express or implied.\n",
              "// See the License for the specific language governing permissions and\n",
              "// limitations under the License.\n",
              "\n",
              "/**\n",
              " * @fileoverview Helpers for google.colab Python module.\n",
              " */\n",
              "(function(scope) {\n",
              "function span(text, styleAttributes = {}) {\n",
              "  const element = document.createElement('span');\n",
              "  element.textContent = text;\n",
              "  for (const key of Object.keys(styleAttributes)) {\n",
              "    element.style[key] = styleAttributes[key];\n",
              "  }\n",
              "  return element;\n",
              "}\n",
              "\n",
              "// Max number of bytes which will be uploaded at a time.\n",
              "const MAX_PAYLOAD_SIZE = 100 * 1024;\n",
              "\n",
              "function _uploadFiles(inputId, outputId) {\n",
              "  const steps = uploadFilesStep(inputId, outputId);\n",
              "  const outputElement = document.getElementById(outputId);\n",
              "  // Cache steps on the outputElement to make it available for the next call\n",
              "  // to uploadFilesContinue from Python.\n",
              "  outputElement.steps = steps;\n",
              "\n",
              "  return _uploadFilesContinue(outputId);\n",
              "}\n",
              "\n",
              "// This is roughly an async generator (not supported in the browser yet),\n",
              "// where there are multiple asynchronous steps and the Python side is going\n",
              "// to poll for completion of each step.\n",
              "// This uses a Promise to block the python side on completion of each step,\n",
              "// then passes the result of the previous step as the input to the next step.\n",
              "function _uploadFilesContinue(outputId) {\n",
              "  const outputElement = document.getElementById(outputId);\n",
              "  const steps = outputElement.steps;\n",
              "\n",
              "  const next = steps.next(outputElement.lastPromiseValue);\n",
              "  return Promise.resolve(next.value.promise).then((value) => {\n",
              "    // Cache the last promise value to make it available to the next\n",
              "    // step of the generator.\n",
              "    outputElement.lastPromiseValue = value;\n",
              "    return next.value.response;\n",
              "  });\n",
              "}\n",
              "\n",
              "/**\n",
              " * Generator function which is called between each async step of the upload\n",
              " * process.\n",
              " * @param {string} inputId Element ID of the input file picker element.\n",
              " * @param {string} outputId Element ID of the output display.\n",
              " * @return {!Iterable<!Object>} Iterable of next steps.\n",
              " */\n",
              "function* uploadFilesStep(inputId, outputId) {\n",
              "  const inputElement = document.getElementById(inputId);\n",
              "  inputElement.disabled = false;\n",
              "\n",
              "  const outputElement = document.getElementById(outputId);\n",
              "  outputElement.innerHTML = '';\n",
              "\n",
              "  const pickedPromise = new Promise((resolve) => {\n",
              "    inputElement.addEventListener('change', (e) => {\n",
              "      resolve(e.target.files);\n",
              "    });\n",
              "  });\n",
              "\n",
              "  const cancel = document.createElement('button');\n",
              "  inputElement.parentElement.appendChild(cancel);\n",
              "  cancel.textContent = 'Cancel upload';\n",
              "  const cancelPromise = new Promise((resolve) => {\n",
              "    cancel.onclick = () => {\n",
              "      resolve(null);\n",
              "    };\n",
              "  });\n",
              "\n",
              "  // Wait for the user to pick the files.\n",
              "  const files = yield {\n",
              "    promise: Promise.race([pickedPromise, cancelPromise]),\n",
              "    response: {\n",
              "      action: 'starting',\n",
              "    }\n",
              "  };\n",
              "\n",
              "  cancel.remove();\n",
              "\n",
              "  // Disable the input element since further picks are not allowed.\n",
              "  inputElement.disabled = true;\n",
              "\n",
              "  if (!files) {\n",
              "    return {\n",
              "      response: {\n",
              "        action: 'complete',\n",
              "      }\n",
              "    };\n",
              "  }\n",
              "\n",
              "  for (const file of files) {\n",
              "    const li = document.createElement('li');\n",
              "    li.append(span(file.name, {fontWeight: 'bold'}));\n",
              "    li.append(span(\n",
              "        `(${file.type || 'n/a'}) - ${file.size} bytes, ` +\n",
              "        `last modified: ${\n",
              "            file.lastModifiedDate ? file.lastModifiedDate.toLocaleDateString() :\n",
              "                                    'n/a'} - `));\n",
              "    const percent = span('0% done');\n",
              "    li.appendChild(percent);\n",
              "\n",
              "    outputElement.appendChild(li);\n",
              "\n",
              "    const fileDataPromise = new Promise((resolve) => {\n",
              "      const reader = new FileReader();\n",
              "      reader.onload = (e) => {\n",
              "        resolve(e.target.result);\n",
              "      };\n",
              "      reader.readAsArrayBuffer(file);\n",
              "    });\n",
              "    // Wait for the data to be ready.\n",
              "    let fileData = yield {\n",
              "      promise: fileDataPromise,\n",
              "      response: {\n",
              "        action: 'continue',\n",
              "      }\n",
              "    };\n",
              "\n",
              "    // Use a chunked sending to avoid message size limits. See b/62115660.\n",
              "    let position = 0;\n",
              "    do {\n",
              "      const length = Math.min(fileData.byteLength - position, MAX_PAYLOAD_SIZE);\n",
              "      const chunk = new Uint8Array(fileData, position, length);\n",
              "      position += length;\n",
              "\n",
              "      const base64 = btoa(String.fromCharCode.apply(null, chunk));\n",
              "      yield {\n",
              "        response: {\n",
              "          action: 'append',\n",
              "          file: file.name,\n",
              "          data: base64,\n",
              "        },\n",
              "      };\n",
              "\n",
              "      let percentDone = fileData.byteLength === 0 ?\n",
              "          100 :\n",
              "          Math.round((position / fileData.byteLength) * 100);\n",
              "      percent.textContent = `${percentDone}% done`;\n",
              "\n",
              "    } while (position < fileData.byteLength);\n",
              "  }\n",
              "\n",
              "  // All done.\n",
              "  yield {\n",
              "    response: {\n",
              "      action: 'complete',\n",
              "    }\n",
              "  };\n",
              "}\n",
              "\n",
              "scope.google = scope.google || {};\n",
              "scope.google.colab = scope.google.colab || {};\n",
              "scope.google.colab._files = {\n",
              "  _uploadFiles,\n",
              "  _uploadFilesContinue,\n",
              "};\n",
              "})(self);\n",
              "</script> "
            ]
          },
          "metadata": {}
        },
        {
          "output_type": "stream",
          "name": "stdout",
          "text": [
            "Saving aguas_sub.csv to aguas_sub.csv\n"
          ]
        }
      ]
    },
    {
      "cell_type": "code",
      "source": [
        "import pandas as pd\n",
        "data = pd.read_csv(\"aguas_sub.csv\",sep=\",\")\n",
        "data.head()"
      ],
      "metadata": {
        "id": "kFHfRb-IupM-",
        "outputId": "db179b0e-7380-4c10-c3d2-82a169175135",
        "colab": {
          "base_uri": "https://localhost:8080/",
          "height": 421
        }
      },
      "execution_count": 4,
      "outputs": [
        {
          "output_type": "execute_result",
          "data": {
            "text/plain": [
              "       CLAVE                   SITIO           ORGANISMO_DE_CUENCA  \\\n",
              "0     DLAGU6            POZO SAN GIL       LERMA SANTIAGO PACIFICO   \n",
              "1  DLAGU6516  POZO R013 CAÑADA HONDA       LERMA SANTIAGO PACIFICO   \n",
              "2     DLAGU7              POZO COSIO       LERMA SANTIAGO PACIFICO   \n",
              "3     DLAGU9      POZO EL SALITRILLO       LERMA SANTIAGO PACIFICO   \n",
              "4   DLBAJ107      RANCHO EL TECOLOTE  PENINSULA DE BAJA CALIFORNIA   \n",
              "\n",
              "                ESTADO        MUNICIPIO                 ACUIFERO SUBTIPO  \\\n",
              "0       AGUASCALIENTES         ASIENTOS       VALLE DE CHICALOTE    POZO   \n",
              "1       AGUASCALIENTES   AGUASCALIENTES       VALLE DE CHICALOTE    POZO   \n",
              "2       AGUASCALIENTES            COSIO  VALLE DE AGUASCALIENTES    POZO   \n",
              "3       AGUASCALIENTES  RINCON DE ROMOS  VALLE DE AGUASCALIENTES    POZO   \n",
              "4  BAJA CALIFORNIA SUR           LA PAZ             TODOS SANTOS    POZO   \n",
              "\n",
              "    LONGITUD   LATITUD  PERIODO  ...  CUMPLE_CON_DUR CUMPLE_CON_CF  \\\n",
              "0 -102.02210  22.20887     2020  ...              SI            SI   \n",
              "1 -102.20075  21.99958     2020  ...              SI            SI   \n",
              "2 -102.28801  22.36685     2020  ...              SI            SI   \n",
              "3 -102.29449  22.18435     2020  ...              SI            SI   \n",
              "4 -110.24480  23.45138     2020  ...              SI            SI   \n",
              "\n",
              "   CUMPLE_CON_NO3 CUMPLE_CON_AS  CUMPLE_CON_CD CUMPLE_CON_CR CUMPLE_CON_HG  \\\n",
              "0              SI            SI             SI            SI            SI   \n",
              "1              SI            SI             SI            SI            SI   \n",
              "2              SI            NO             SI            SI            SI   \n",
              "3              SI            SI             SI            SI            SI   \n",
              "4              NO            SI             SI            SI            SI   \n",
              "\n",
              "  CUMPLE_CON_PB CUMPLE_CON_MN CUMPLE_CON_FE  \n",
              "0            SI            SI            SI  \n",
              "1            SI            SI            SI  \n",
              "2            SI            SI            SI  \n",
              "3            SI            SI            SI  \n",
              "4            SI            SI            SI  \n",
              "\n",
              "[5 rows x 57 columns]"
            ],
            "text/html": [
              "\n",
              "  <div id=\"df-4f7a3c14-5a15-4b3d-94ae-06ce4eed5a1f\">\n",
              "    <div class=\"colab-df-container\">\n",
              "      <div>\n",
              "<style scoped>\n",
              "    .dataframe tbody tr th:only-of-type {\n",
              "        vertical-align: middle;\n",
              "    }\n",
              "\n",
              "    .dataframe tbody tr th {\n",
              "        vertical-align: top;\n",
              "    }\n",
              "\n",
              "    .dataframe thead th {\n",
              "        text-align: right;\n",
              "    }\n",
              "</style>\n",
              "<table border=\"1\" class=\"dataframe\">\n",
              "  <thead>\n",
              "    <tr style=\"text-align: right;\">\n",
              "      <th></th>\n",
              "      <th>CLAVE</th>\n",
              "      <th>SITIO</th>\n",
              "      <th>ORGANISMO_DE_CUENCA</th>\n",
              "      <th>ESTADO</th>\n",
              "      <th>MUNICIPIO</th>\n",
              "      <th>ACUIFERO</th>\n",
              "      <th>SUBTIPO</th>\n",
              "      <th>LONGITUD</th>\n",
              "      <th>LATITUD</th>\n",
              "      <th>PERIODO</th>\n",
              "      <th>...</th>\n",
              "      <th>CUMPLE_CON_DUR</th>\n",
              "      <th>CUMPLE_CON_CF</th>\n",
              "      <th>CUMPLE_CON_NO3</th>\n",
              "      <th>CUMPLE_CON_AS</th>\n",
              "      <th>CUMPLE_CON_CD</th>\n",
              "      <th>CUMPLE_CON_CR</th>\n",
              "      <th>CUMPLE_CON_HG</th>\n",
              "      <th>CUMPLE_CON_PB</th>\n",
              "      <th>CUMPLE_CON_MN</th>\n",
              "      <th>CUMPLE_CON_FE</th>\n",
              "    </tr>\n",
              "  </thead>\n",
              "  <tbody>\n",
              "    <tr>\n",
              "      <th>0</th>\n",
              "      <td>DLAGU6</td>\n",
              "      <td>POZO SAN GIL</td>\n",
              "      <td>LERMA SANTIAGO PACIFICO</td>\n",
              "      <td>AGUASCALIENTES</td>\n",
              "      <td>ASIENTOS</td>\n",
              "      <td>VALLE DE CHICALOTE</td>\n",
              "      <td>POZO</td>\n",
              "      <td>-102.02210</td>\n",
              "      <td>22.20887</td>\n",
              "      <td>2020</td>\n",
              "      <td>...</td>\n",
              "      <td>SI</td>\n",
              "      <td>SI</td>\n",
              "      <td>SI</td>\n",
              "      <td>SI</td>\n",
              "      <td>SI</td>\n",
              "      <td>SI</td>\n",
              "      <td>SI</td>\n",
              "      <td>SI</td>\n",
              "      <td>SI</td>\n",
              "      <td>SI</td>\n",
              "    </tr>\n",
              "    <tr>\n",
              "      <th>1</th>\n",
              "      <td>DLAGU6516</td>\n",
              "      <td>POZO R013 CAÑADA HONDA</td>\n",
              "      <td>LERMA SANTIAGO PACIFICO</td>\n",
              "      <td>AGUASCALIENTES</td>\n",
              "      <td>AGUASCALIENTES</td>\n",
              "      <td>VALLE DE CHICALOTE</td>\n",
              "      <td>POZO</td>\n",
              "      <td>-102.20075</td>\n",
              "      <td>21.99958</td>\n",
              "      <td>2020</td>\n",
              "      <td>...</td>\n",
              "      <td>SI</td>\n",
              "      <td>SI</td>\n",
              "      <td>SI</td>\n",
              "      <td>SI</td>\n",
              "      <td>SI</td>\n",
              "      <td>SI</td>\n",
              "      <td>SI</td>\n",
              "      <td>SI</td>\n",
              "      <td>SI</td>\n",
              "      <td>SI</td>\n",
              "    </tr>\n",
              "    <tr>\n",
              "      <th>2</th>\n",
              "      <td>DLAGU7</td>\n",
              "      <td>POZO COSIO</td>\n",
              "      <td>LERMA SANTIAGO PACIFICO</td>\n",
              "      <td>AGUASCALIENTES</td>\n",
              "      <td>COSIO</td>\n",
              "      <td>VALLE DE AGUASCALIENTES</td>\n",
              "      <td>POZO</td>\n",
              "      <td>-102.28801</td>\n",
              "      <td>22.36685</td>\n",
              "      <td>2020</td>\n",
              "      <td>...</td>\n",
              "      <td>SI</td>\n",
              "      <td>SI</td>\n",
              "      <td>SI</td>\n",
              "      <td>NO</td>\n",
              "      <td>SI</td>\n",
              "      <td>SI</td>\n",
              "      <td>SI</td>\n",
              "      <td>SI</td>\n",
              "      <td>SI</td>\n",
              "      <td>SI</td>\n",
              "    </tr>\n",
              "    <tr>\n",
              "      <th>3</th>\n",
              "      <td>DLAGU9</td>\n",
              "      <td>POZO EL SALITRILLO</td>\n",
              "      <td>LERMA SANTIAGO PACIFICO</td>\n",
              "      <td>AGUASCALIENTES</td>\n",
              "      <td>RINCON DE ROMOS</td>\n",
              "      <td>VALLE DE AGUASCALIENTES</td>\n",
              "      <td>POZO</td>\n",
              "      <td>-102.29449</td>\n",
              "      <td>22.18435</td>\n",
              "      <td>2020</td>\n",
              "      <td>...</td>\n",
              "      <td>SI</td>\n",
              "      <td>SI</td>\n",
              "      <td>SI</td>\n",
              "      <td>SI</td>\n",
              "      <td>SI</td>\n",
              "      <td>SI</td>\n",
              "      <td>SI</td>\n",
              "      <td>SI</td>\n",
              "      <td>SI</td>\n",
              "      <td>SI</td>\n",
              "    </tr>\n",
              "    <tr>\n",
              "      <th>4</th>\n",
              "      <td>DLBAJ107</td>\n",
              "      <td>RANCHO EL TECOLOTE</td>\n",
              "      <td>PENINSULA DE BAJA CALIFORNIA</td>\n",
              "      <td>BAJA CALIFORNIA SUR</td>\n",
              "      <td>LA PAZ</td>\n",
              "      <td>TODOS SANTOS</td>\n",
              "      <td>POZO</td>\n",
              "      <td>-110.24480</td>\n",
              "      <td>23.45138</td>\n",
              "      <td>2020</td>\n",
              "      <td>...</td>\n",
              "      <td>SI</td>\n",
              "      <td>SI</td>\n",
              "      <td>NO</td>\n",
              "      <td>SI</td>\n",
              "      <td>SI</td>\n",
              "      <td>SI</td>\n",
              "      <td>SI</td>\n",
              "      <td>SI</td>\n",
              "      <td>SI</td>\n",
              "      <td>SI</td>\n",
              "    </tr>\n",
              "  </tbody>\n",
              "</table>\n",
              "<p>5 rows × 57 columns</p>\n",
              "</div>\n",
              "      <button class=\"colab-df-convert\" onclick=\"convertToInteractive('df-4f7a3c14-5a15-4b3d-94ae-06ce4eed5a1f')\"\n",
              "              title=\"Convert this dataframe to an interactive table.\"\n",
              "              style=\"display:none;\">\n",
              "        \n",
              "  <svg xmlns=\"http://www.w3.org/2000/svg\" height=\"24px\"viewBox=\"0 0 24 24\"\n",
              "       width=\"24px\">\n",
              "    <path d=\"M0 0h24v24H0V0z\" fill=\"none\"/>\n",
              "    <path d=\"M18.56 5.44l.94 2.06.94-2.06 2.06-.94-2.06-.94-.94-2.06-.94 2.06-2.06.94zm-11 1L8.5 8.5l.94-2.06 2.06-.94-2.06-.94L8.5 2.5l-.94 2.06-2.06.94zm10 10l.94 2.06.94-2.06 2.06-.94-2.06-.94-.94-2.06-.94 2.06-2.06.94z\"/><path d=\"M17.41 7.96l-1.37-1.37c-.4-.4-.92-.59-1.43-.59-.52 0-1.04.2-1.43.59L10.3 9.45l-7.72 7.72c-.78.78-.78 2.05 0 2.83L4 21.41c.39.39.9.59 1.41.59.51 0 1.02-.2 1.41-.59l7.78-7.78 2.81-2.81c.8-.78.8-2.07 0-2.86zM5.41 20L4 18.59l7.72-7.72 1.47 1.35L5.41 20z\"/>\n",
              "  </svg>\n",
              "      </button>\n",
              "      \n",
              "  <style>\n",
              "    .colab-df-container {\n",
              "      display:flex;\n",
              "      flex-wrap:wrap;\n",
              "      gap: 12px;\n",
              "    }\n",
              "\n",
              "    .colab-df-convert {\n",
              "      background-color: #E8F0FE;\n",
              "      border: none;\n",
              "      border-radius: 50%;\n",
              "      cursor: pointer;\n",
              "      display: none;\n",
              "      fill: #1967D2;\n",
              "      height: 32px;\n",
              "      padding: 0 0 0 0;\n",
              "      width: 32px;\n",
              "    }\n",
              "\n",
              "    .colab-df-convert:hover {\n",
              "      background-color: #E2EBFA;\n",
              "      box-shadow: 0px 1px 2px rgba(60, 64, 67, 0.3), 0px 1px 3px 1px rgba(60, 64, 67, 0.15);\n",
              "      fill: #174EA6;\n",
              "    }\n",
              "\n",
              "    [theme=dark] .colab-df-convert {\n",
              "      background-color: #3B4455;\n",
              "      fill: #D2E3FC;\n",
              "    }\n",
              "\n",
              "    [theme=dark] .colab-df-convert:hover {\n",
              "      background-color: #434B5C;\n",
              "      box-shadow: 0px 1px 3px 1px rgba(0, 0, 0, 0.15);\n",
              "      filter: drop-shadow(0px 1px 2px rgba(0, 0, 0, 0.3));\n",
              "      fill: #FFFFFF;\n",
              "    }\n",
              "  </style>\n",
              "\n",
              "      <script>\n",
              "        const buttonEl =\n",
              "          document.querySelector('#df-4f7a3c14-5a15-4b3d-94ae-06ce4eed5a1f button.colab-df-convert');\n",
              "        buttonEl.style.display =\n",
              "          google.colab.kernel.accessAllowed ? 'block' : 'none';\n",
              "\n",
              "        async function convertToInteractive(key) {\n",
              "          const element = document.querySelector('#df-4f7a3c14-5a15-4b3d-94ae-06ce4eed5a1f');\n",
              "          const dataTable =\n",
              "            await google.colab.kernel.invokeFunction('convertToInteractive',\n",
              "                                                     [key], {});\n",
              "          if (!dataTable) return;\n",
              "\n",
              "          const docLinkHtml = 'Like what you see? Visit the ' +\n",
              "            '<a target=\"_blank\" href=https://colab.research.google.com/notebooks/data_table.ipynb>data table notebook</a>'\n",
              "            + ' to learn more about interactive tables.';\n",
              "          element.innerHTML = '';\n",
              "          dataTable['output_type'] = 'display_data';\n",
              "          await google.colab.output.renderOutput(dataTable, element);\n",
              "          const docLink = document.createElement('div');\n",
              "          docLink.innerHTML = docLinkHtml;\n",
              "          element.appendChild(docLink);\n",
              "        }\n",
              "      </script>\n",
              "    </div>\n",
              "  </div>\n",
              "  "
            ]
          },
          "metadata": {},
          "execution_count": 4
        }
      ]
    },
    {
      "cell_type": "markdown",
      "source": [
        "### Columnas a utilizar"
      ],
      "metadata": {
        "id": "__eC_K5Tv6LI"
      }
    },
    {
      "cell_type": "code",
      "source": [
        "df = data.copy()\n",
        "print(df['CLAVE'].describe()) #SE VA, NO APORTA NADA AL ANÁLISIS\n",
        "df.drop('CLAVE',inplace=True,axis=1)"
      ],
      "metadata": {
        "id": "CPmnQhZyv_Ov",
        "outputId": "c21856d8-8d20-4a14-ec8b-f3fad4726ea7",
        "colab": {
          "base_uri": "https://localhost:8080/"
        }
      },
      "execution_count": 5,
      "outputs": [
        {
          "output_type": "stream",
          "name": "stdout",
          "text": [
            "count       1068\n",
            "unique      1068\n",
            "top       DLAGU6\n",
            "freq           1\n",
            "Name: CLAVE, dtype: object\n"
          ]
        }
      ]
    },
    {
      "cell_type": "code",
      "source": [
        "print(df['SITIO'].describe()) #SE VA, NO APORTA NADA AL ANÁLISIS\n",
        "df.drop('SITIO',inplace=True,axis=1)"
      ],
      "metadata": {
        "id": "PszpaEBgwx6X",
        "outputId": "23ea33c9-7168-414b-b35d-723be741f73d",
        "colab": {
          "base_uri": "https://localhost:8080/"
        }
      },
      "execution_count": 6,
      "outputs": [
        {
          "output_type": "stream",
          "name": "stdout",
          "text": [
            "count          1068\n",
            "unique         1066\n",
            "top       EL FUERTE\n",
            "freq              2\n",
            "Name: SITIO, dtype: object\n"
          ]
        }
      ]
    },
    {
      "cell_type": "code",
      "source": [
        "#YA SE TIENE LONGITUD Y LATITUD PARA ESTE ANÁLISIS, NO SE NECESITAN\n",
        "df.drop('ORGANISMO_DE_CUENCA',inplace=True,axis=1)\n",
        "df.drop('ESTADO',inplace=True,axis=1)\n",
        "df.drop('MUNICIPIO',inplace=True,axis=1)\n",
        "df.drop('ACUIFERO',inplace=True,axis=1)"
      ],
      "metadata": {
        "id": "-6jVy_9-xDbG"
      },
      "execution_count": 7,
      "outputs": []
    },
    {
      "cell_type": "code",
      "source": [
        "print(df['SUBTIPO'].describe()) #SE QUEDA PARA FUTURO ANÁLISIS. "
      ],
      "metadata": {
        "id": "rSZDdwY0xlMv",
        "outputId": "c3df61bd-6634-4367-a2f0-141463b4256c",
        "colab": {
          "base_uri": "https://localhost:8080/"
        }
      },
      "execution_count": 8,
      "outputs": [
        {
          "output_type": "stream",
          "name": "stdout",
          "text": [
            "count     1068\n",
            "unique       8\n",
            "top       POZO\n",
            "freq      1039\n",
            "Name: SUBTIPO, dtype: object\n"
          ]
        }
      ]
    },
    {
      "cell_type": "code",
      "source": [
        "print(df['PERIODO'].describe()) #TODOS SON EL 2020\n",
        "df.drop('PERIODO',inplace=True,axis=1)"
      ],
      "metadata": {
        "id": "Hbz5iQpsyLD5",
        "outputId": "836f5fbd-584b-4063-931b-f03e381410a8",
        "colab": {
          "base_uri": "https://localhost:8080/"
        }
      },
      "execution_count": 9,
      "outputs": [
        {
          "output_type": "stream",
          "name": "stdout",
          "text": [
            "count    1068.0\n",
            "mean     2020.0\n",
            "std         0.0\n",
            "min      2020.0\n",
            "25%      2020.0\n",
            "50%      2020.0\n",
            "75%      2020.0\n",
            "max      2020.0\n",
            "Name: PERIODO, dtype: float64\n"
          ]
        }
      ]
    },
    {
      "cell_type": "code",
      "source": [
        "print(df['ALC_mg/L'].describe()) #SE QUEDA PARA FUTURO ANÁLISIS"
      ],
      "metadata": {
        "id": "vvBLCH9JyaDP",
        "outputId": "36f17ba6-6e79-49c9-d59f-fd75f2228a28",
        "colab": {
          "base_uri": "https://localhost:8080/"
        }
      },
      "execution_count": 10,
      "outputs": [
        {
          "output_type": "stream",
          "name": "stdout",
          "text": [
            "count    1064.000000\n",
            "mean      235.633759\n",
            "std       116.874291\n",
            "min        26.640000\n",
            "25%       164.000000\n",
            "50%       215.527500\n",
            "75%       292.710000\n",
            "max      1650.000000\n",
            "Name: ALC_mg/L, dtype: float64\n"
          ]
        }
      ]
    },
    {
      "cell_type": "code",
      "source": [
        "print(df['SDT_mg/L'].describe()) #NO HAY NADA\n",
        "df.drop('SDT_mg/L',inplace=True,axis=1)"
      ],
      "metadata": {
        "id": "Lnhpru9Fy1K-",
        "outputId": "acaeeb12-4913-49c0-a3d0-32bcd3bf2ea7",
        "colab": {
          "base_uri": "https://localhost:8080/"
        }
      },
      "execution_count": 11,
      "outputs": [
        {
          "output_type": "stream",
          "name": "stdout",
          "text": [
            "count    0.0\n",
            "mean     NaN\n",
            "std      NaN\n",
            "min      NaN\n",
            "25%      NaN\n",
            "50%      NaN\n",
            "75%      NaN\n",
            "max      NaN\n",
            "Name: SDT_mg/L, dtype: float64\n"
          ]
        }
      ]
    },
    {
      "cell_type": "code",
      "source": [
        "df.drop('CUMPLE_CON_FE',inplace=True,axis=1)\n",
        "df.drop('CUMPLE_CON_MN',inplace=True,axis=1)\n",
        "df.drop('CUMPLE_CON_PB',inplace=True,axis=1)\n",
        "df.drop('CUMPLE_CON_HG',inplace=True,axis=1)\n",
        "df.drop('CUMPLE_CON_CR',inplace=True,axis=1)\n",
        "df.drop('CUMPLE_CON_CD',inplace=True,axis=1)\n",
        "df.drop('CUMPLE_CON_AS',inplace=True,axis=1)\n",
        "df.drop('CUMPLE_CON_NO3',inplace=True,axis=1)\n",
        "df.drop('CUMPLE_CON_CF',inplace=True,axis=1)\n",
        "df.drop('CUMPLE_CON_DUR',inplace=True,axis=1)\n",
        "df.drop('CUMPLE_CON_FLUO',inplace=True,axis=1)\n",
        "df.drop('CUMPLE_CON_SDT_salin',inplace=True,axis=1)\n",
        "df.drop('CUMPLE_CON_SDT_ra',inplace=True,axis=1)\n",
        "df.drop('CUMPLE_CON_COND',inplace=True,axis=1)\n",
        "df.drop('CUMPLE_CON_ALC',inplace=True,axis=1)\n",
        "df.drop('CONTAMINANTES',inplace=True,axis=1)\n",
        "df.drop('SEMAFORO',inplace=True,axis=1)\n",
        "df.drop('CALIDAD_FE',inplace=True,axis=1)\n",
        "df.drop('FE_TOT_mg/L',inplace=True,axis=1)\n",
        "df.drop('CALIDAD_MN',inplace=True,axis=1)\n",
        "df.drop('MN_TOT_mg/L',inplace=True,axis=1)\n",
        "df.drop('CALIDAD_PB',inplace=True,axis=1)\n",
        "df.drop('PB_TOT_mg/L',inplace=True,axis=1)\n",
        "df.drop('CALIDAD_HG',inplace=True,axis=1)\n",
        "df.drop('HG_TOT_mg/L',inplace=True,axis=1)\n",
        "df.drop('CALIDAD_CR',inplace=True,axis=1)\n",
        "df.drop('CR_TOT_mg/L',inplace=True,axis=1)\n",
        "df.drop('CALIDAD_CD',inplace=True,axis=1)\n",
        "df.drop('CD_TOT_mg/L',inplace=True,axis=1)\n",
        "df.drop('CALIDAD_AS',inplace=True,axis=1)\n",
        "df.drop('AS_TOT_mg/L',inplace=True,axis=1)\n",
        "df.drop('CALIDAD_N_NO3',inplace=True,axis=1)\n",
        "df.drop('COLI_FEC_NMP/100_mL',inplace=True,axis=1)\n",
        "df.drop('CALIDAD_COLI_FEC',inplace=True,axis=1)\n",
        "df.drop('CALIDAD_DUR',inplace=True,axis=1)\n",
        "\n",
        "#TODAS SON VARIABLES DE SALIDA QUE NO QUEREMOS ANALIZAR. NUESTRO OBJETIVO ES HACER UNA RELACIÓN PARA ANALIZAR SI EL AGUA\n",
        "#ES TANTO POTABLE COMO BUENA PARA LOS CULTIVOS. DETECTAR SI HAY RELACIÓN ENTRE AMBAS, ETC. "
      ],
      "metadata": {
        "id": "_P5XXXtUy9IH"
      },
      "execution_count": 12,
      "outputs": []
    },
    {
      "cell_type": "code",
      "source": [
        "df.head()"
      ],
      "metadata": {
        "id": "rNx4h-gb1Tym",
        "outputId": "e80df54b-3d9e-422a-9f69-a13759dddea7",
        "colab": {
          "base_uri": "https://localhost:8080/",
          "height": 357
        }
      },
      "execution_count": 13,
      "outputs": [
        {
          "output_type": "execute_result",
          "data": {
            "text/plain": [
              "  SUBTIPO   LONGITUD   LATITUD  ALC_mg/L CALIDAD_ALC  CONDUCT_mS/cm  \\\n",
              "0    POZO -102.02210  22.20887   229.990        Alta          940.0   \n",
              "1    POZO -102.20075  21.99958   231.990        Alta          608.0   \n",
              "2    POZO -102.28801  22.36685   204.920        Alta          532.0   \n",
              "3    POZO -102.29449  22.18435   327.000        Alta          686.0   \n",
              "4    POZO -110.24480  23.45138   309.885        Alta         1841.0   \n",
              "\n",
              "          CALIDAD_CONDUC SDT_M_mg/L                CALIDAD_SDT_ra  \\\n",
              "0  Permisible para riego      603.6            Cultivos sensibles   \n",
              "1       Buena para riego      445.4          Excelente para riego   \n",
              "2       Buena para riego        342          Excelente para riego   \n",
              "3       Buena para riego      478.6          Excelente para riego   \n",
              "4  Permisible para riego       1179  Cultivos con manejo especial   \n",
              "\n",
              "      CALIDAD_SDT_salin FLUORUROS_mg/L      CALIDAD_FLUO  DUR_mg/L N_NO3_mg/L  \n",
              "0       Potable - Dulce         0.9766  Potable - Optima   213.732   4.184656  \n",
              "1       Potable - Dulce         0.9298  Potable - Optima  185.0514    5.75011  \n",
              "2       Potable - Dulce         1.8045              Alta   120.719   1.449803  \n",
              "3       Potable - Dulce         1.1229  Potable - Optima   199.879   1.258597  \n",
              "4  Ligeramente salobres         0.2343              Baja  476.9872  15.672251  "
            ],
            "text/html": [
              "\n",
              "  <div id=\"df-c8f1b103-6739-462e-970c-47eee3444595\">\n",
              "    <div class=\"colab-df-container\">\n",
              "      <div>\n",
              "<style scoped>\n",
              "    .dataframe tbody tr th:only-of-type {\n",
              "        vertical-align: middle;\n",
              "    }\n",
              "\n",
              "    .dataframe tbody tr th {\n",
              "        vertical-align: top;\n",
              "    }\n",
              "\n",
              "    .dataframe thead th {\n",
              "        text-align: right;\n",
              "    }\n",
              "</style>\n",
              "<table border=\"1\" class=\"dataframe\">\n",
              "  <thead>\n",
              "    <tr style=\"text-align: right;\">\n",
              "      <th></th>\n",
              "      <th>SUBTIPO</th>\n",
              "      <th>LONGITUD</th>\n",
              "      <th>LATITUD</th>\n",
              "      <th>ALC_mg/L</th>\n",
              "      <th>CALIDAD_ALC</th>\n",
              "      <th>CONDUCT_mS/cm</th>\n",
              "      <th>CALIDAD_CONDUC</th>\n",
              "      <th>SDT_M_mg/L</th>\n",
              "      <th>CALIDAD_SDT_ra</th>\n",
              "      <th>CALIDAD_SDT_salin</th>\n",
              "      <th>FLUORUROS_mg/L</th>\n",
              "      <th>CALIDAD_FLUO</th>\n",
              "      <th>DUR_mg/L</th>\n",
              "      <th>N_NO3_mg/L</th>\n",
              "    </tr>\n",
              "  </thead>\n",
              "  <tbody>\n",
              "    <tr>\n",
              "      <th>0</th>\n",
              "      <td>POZO</td>\n",
              "      <td>-102.02210</td>\n",
              "      <td>22.20887</td>\n",
              "      <td>229.990</td>\n",
              "      <td>Alta</td>\n",
              "      <td>940.0</td>\n",
              "      <td>Permisible para riego</td>\n",
              "      <td>603.6</td>\n",
              "      <td>Cultivos sensibles</td>\n",
              "      <td>Potable - Dulce</td>\n",
              "      <td>0.9766</td>\n",
              "      <td>Potable - Optima</td>\n",
              "      <td>213.732</td>\n",
              "      <td>4.184656</td>\n",
              "    </tr>\n",
              "    <tr>\n",
              "      <th>1</th>\n",
              "      <td>POZO</td>\n",
              "      <td>-102.20075</td>\n",
              "      <td>21.99958</td>\n",
              "      <td>231.990</td>\n",
              "      <td>Alta</td>\n",
              "      <td>608.0</td>\n",
              "      <td>Buena para riego</td>\n",
              "      <td>445.4</td>\n",
              "      <td>Excelente para riego</td>\n",
              "      <td>Potable - Dulce</td>\n",
              "      <td>0.9298</td>\n",
              "      <td>Potable - Optima</td>\n",
              "      <td>185.0514</td>\n",
              "      <td>5.75011</td>\n",
              "    </tr>\n",
              "    <tr>\n",
              "      <th>2</th>\n",
              "      <td>POZO</td>\n",
              "      <td>-102.28801</td>\n",
              "      <td>22.36685</td>\n",
              "      <td>204.920</td>\n",
              "      <td>Alta</td>\n",
              "      <td>532.0</td>\n",
              "      <td>Buena para riego</td>\n",
              "      <td>342</td>\n",
              "      <td>Excelente para riego</td>\n",
              "      <td>Potable - Dulce</td>\n",
              "      <td>1.8045</td>\n",
              "      <td>Alta</td>\n",
              "      <td>120.719</td>\n",
              "      <td>1.449803</td>\n",
              "    </tr>\n",
              "    <tr>\n",
              "      <th>3</th>\n",
              "      <td>POZO</td>\n",
              "      <td>-102.29449</td>\n",
              "      <td>22.18435</td>\n",
              "      <td>327.000</td>\n",
              "      <td>Alta</td>\n",
              "      <td>686.0</td>\n",
              "      <td>Buena para riego</td>\n",
              "      <td>478.6</td>\n",
              "      <td>Excelente para riego</td>\n",
              "      <td>Potable - Dulce</td>\n",
              "      <td>1.1229</td>\n",
              "      <td>Potable - Optima</td>\n",
              "      <td>199.879</td>\n",
              "      <td>1.258597</td>\n",
              "    </tr>\n",
              "    <tr>\n",
              "      <th>4</th>\n",
              "      <td>POZO</td>\n",
              "      <td>-110.24480</td>\n",
              "      <td>23.45138</td>\n",
              "      <td>309.885</td>\n",
              "      <td>Alta</td>\n",
              "      <td>1841.0</td>\n",
              "      <td>Permisible para riego</td>\n",
              "      <td>1179</td>\n",
              "      <td>Cultivos con manejo especial</td>\n",
              "      <td>Ligeramente salobres</td>\n",
              "      <td>0.2343</td>\n",
              "      <td>Baja</td>\n",
              "      <td>476.9872</td>\n",
              "      <td>15.672251</td>\n",
              "    </tr>\n",
              "  </tbody>\n",
              "</table>\n",
              "</div>\n",
              "      <button class=\"colab-df-convert\" onclick=\"convertToInteractive('df-c8f1b103-6739-462e-970c-47eee3444595')\"\n",
              "              title=\"Convert this dataframe to an interactive table.\"\n",
              "              style=\"display:none;\">\n",
              "        \n",
              "  <svg xmlns=\"http://www.w3.org/2000/svg\" height=\"24px\"viewBox=\"0 0 24 24\"\n",
              "       width=\"24px\">\n",
              "    <path d=\"M0 0h24v24H0V0z\" fill=\"none\"/>\n",
              "    <path d=\"M18.56 5.44l.94 2.06.94-2.06 2.06-.94-2.06-.94-.94-2.06-.94 2.06-2.06.94zm-11 1L8.5 8.5l.94-2.06 2.06-.94-2.06-.94L8.5 2.5l-.94 2.06-2.06.94zm10 10l.94 2.06.94-2.06 2.06-.94-2.06-.94-.94-2.06-.94 2.06-2.06.94z\"/><path d=\"M17.41 7.96l-1.37-1.37c-.4-.4-.92-.59-1.43-.59-.52 0-1.04.2-1.43.59L10.3 9.45l-7.72 7.72c-.78.78-.78 2.05 0 2.83L4 21.41c.39.39.9.59 1.41.59.51 0 1.02-.2 1.41-.59l7.78-7.78 2.81-2.81c.8-.78.8-2.07 0-2.86zM5.41 20L4 18.59l7.72-7.72 1.47 1.35L5.41 20z\"/>\n",
              "  </svg>\n",
              "      </button>\n",
              "      \n",
              "  <style>\n",
              "    .colab-df-container {\n",
              "      display:flex;\n",
              "      flex-wrap:wrap;\n",
              "      gap: 12px;\n",
              "    }\n",
              "\n",
              "    .colab-df-convert {\n",
              "      background-color: #E8F0FE;\n",
              "      border: none;\n",
              "      border-radius: 50%;\n",
              "      cursor: pointer;\n",
              "      display: none;\n",
              "      fill: #1967D2;\n",
              "      height: 32px;\n",
              "      padding: 0 0 0 0;\n",
              "      width: 32px;\n",
              "    }\n",
              "\n",
              "    .colab-df-convert:hover {\n",
              "      background-color: #E2EBFA;\n",
              "      box-shadow: 0px 1px 2px rgba(60, 64, 67, 0.3), 0px 1px 3px 1px rgba(60, 64, 67, 0.15);\n",
              "      fill: #174EA6;\n",
              "    }\n",
              "\n",
              "    [theme=dark] .colab-df-convert {\n",
              "      background-color: #3B4455;\n",
              "      fill: #D2E3FC;\n",
              "    }\n",
              "\n",
              "    [theme=dark] .colab-df-convert:hover {\n",
              "      background-color: #434B5C;\n",
              "      box-shadow: 0px 1px 3px 1px rgba(0, 0, 0, 0.15);\n",
              "      filter: drop-shadow(0px 1px 2px rgba(0, 0, 0, 0.3));\n",
              "      fill: #FFFFFF;\n",
              "    }\n",
              "  </style>\n",
              "\n",
              "      <script>\n",
              "        const buttonEl =\n",
              "          document.querySelector('#df-c8f1b103-6739-462e-970c-47eee3444595 button.colab-df-convert');\n",
              "        buttonEl.style.display =\n",
              "          google.colab.kernel.accessAllowed ? 'block' : 'none';\n",
              "\n",
              "        async function convertToInteractive(key) {\n",
              "          const element = document.querySelector('#df-c8f1b103-6739-462e-970c-47eee3444595');\n",
              "          const dataTable =\n",
              "            await google.colab.kernel.invokeFunction('convertToInteractive',\n",
              "                                                     [key], {});\n",
              "          if (!dataTable) return;\n",
              "\n",
              "          const docLinkHtml = 'Like what you see? Visit the ' +\n",
              "            '<a target=\"_blank\" href=https://colab.research.google.com/notebooks/data_table.ipynb>data table notebook</a>'\n",
              "            + ' to learn more about interactive tables.';\n",
              "          element.innerHTML = '';\n",
              "          dataTable['output_type'] = 'display_data';\n",
              "          await google.colab.output.renderOutput(dataTable, element);\n",
              "          const docLink = document.createElement('div');\n",
              "          docLink.innerHTML = docLinkHtml;\n",
              "          element.appendChild(docLink);\n",
              "        }\n",
              "      </script>\n",
              "    </div>\n",
              "  </div>\n",
              "  "
            ]
          },
          "metadata": {},
          "execution_count": 13
        }
      ]
    },
    {
      "cell_type": "code",
      "source": [
        "###Variables categóricas\n",
        "cat_vars = ['SUBTIPO']\n",
        "###Variables numéricas.\n",
        "num_vars = ['LONGITUD','LATITUD','ALC_mg/L','CONDUCT_mS/cm','SDT_M_mg/L','FLUORUROS_mg/L','DUR_mg/L','N_NO3_mg/L']\n",
        "###Variables Ordinales.\n",
        "ord_vars = ['CALIDAD_FLUO','CALIDAD_ALC','CALIDAD_CONDUC','CALIDAD_SDT_ra','CALIDAD_SDT_salin']"
      ],
      "metadata": {
        "id": "YMmYdkb33Y41"
      },
      "execution_count": 14,
      "outputs": []
    },
    {
      "cell_type": "code",
      "source": [
        "df.isnull().sum() #ELIMINAMOS LAS FILAS DE LAS VARIABLES NULAS PORQUE IGUAL SON MUCHOS DATOS. "
      ],
      "metadata": {
        "id": "827jyvzi7hp8",
        "outputId": "f7f2fd1d-f60c-4c59-e40b-9486070e8fb5",
        "colab": {
          "base_uri": "https://localhost:8080/"
        }
      },
      "execution_count": 15,
      "outputs": [
        {
          "output_type": "execute_result",
          "data": {
            "text/plain": [
              "SUBTIPO              0\n",
              "LONGITUD             0\n",
              "LATITUD              0\n",
              "ALC_mg/L             4\n",
              "CALIDAD_ALC          4\n",
              "CONDUCT_mS/cm        6\n",
              "CALIDAD_CONDUC       6\n",
              "SDT_M_mg/L           2\n",
              "CALIDAD_SDT_ra       2\n",
              "CALIDAD_SDT_salin    2\n",
              "FLUORUROS_mg/L       0\n",
              "CALIDAD_FLUO         0\n",
              "DUR_mg/L             1\n",
              "N_NO3_mg/L           1\n",
              "dtype: int64"
            ]
          },
          "metadata": {},
          "execution_count": 15
        }
      ]
    },
    {
      "cell_type": "code",
      "source": [
        "df.dropna(inplace = True)\n",
        "df.isnull().sum()"
      ],
      "metadata": {
        "id": "OeX05dsy8Jg7",
        "outputId": "fea4c3ac-3e27-499b-c84d-305ffc12c229",
        "colab": {
          "base_uri": "https://localhost:8080/"
        }
      },
      "execution_count": 16,
      "outputs": [
        {
          "output_type": "execute_result",
          "data": {
            "text/plain": [
              "SUBTIPO              0\n",
              "LONGITUD             0\n",
              "LATITUD              0\n",
              "ALC_mg/L             0\n",
              "CALIDAD_ALC          0\n",
              "CONDUCT_mS/cm        0\n",
              "CALIDAD_CONDUC       0\n",
              "SDT_M_mg/L           0\n",
              "CALIDAD_SDT_ra       0\n",
              "CALIDAD_SDT_salin    0\n",
              "FLUORUROS_mg/L       0\n",
              "CALIDAD_FLUO         0\n",
              "DUR_mg/L             0\n",
              "N_NO3_mg/L           0\n",
              "dtype: int64"
            ]
          },
          "metadata": {},
          "execution_count": 16
        }
      ]
    },
    {
      "cell_type": "code",
      "source": [
        "#LAS PRÓXIMAS VARIABLES SON \"OBJECTS\" O \"STRINGS\", CUANDO DEBERÍAN SER \"FLOATS\".\n",
        "#SIN EMBARGO, HAY NÚMEROS QUE SE PONEN COMO \"MENOR A\" Y HAY QUE CAMBIARLO A OTRO NÚMERO.  \n",
        "df['SDT_M_mg/L'] = df['SDT_M_mg/L'].astype(float)\n",
        "for i in range(len(df)):\n",
        "  if df.iloc[i]['FLUORUROS_mg/L'][0] == '<':\n",
        "    df.iloc[i, df.columns.get_loc('FLUORUROS_mg/L')] = '0.1'\n",
        "df['FLUORUROS_mg/L'] = df['FLUORUROS_mg/L'].astype(float)\n",
        "for i in range(len(df)):\n",
        "  if df.iloc[i]['DUR_mg/L'][0] == '<':\n",
        "    df.iloc[i, df.columns.get_loc('DUR_mg/L')] = '10'\n",
        "df['DUR_mg/L'] = df['DUR_mg/L'].astype(float)\n",
        "for i in range(len(df)):\n",
        "  if df.iloc[i]['N_NO3_mg/L'][0] == '<':\n",
        "    df.iloc[i, df.columns.get_loc('N_NO3_mg/L')] = '0'\n",
        "df['N_NO3_mg/L'] = df['N_NO3_mg/L'].astype(float)"
      ],
      "metadata": {
        "id": "jPmYJlDH_lcD"
      },
      "execution_count": 17,
      "outputs": []
    },
    {
      "cell_type": "code",
      "source": [
        "import seaborn as sns\n",
        "dfa = df.copy()\n",
        "dfa.drop('CALIDAD_FLUO',inplace=True,axis=1)\n",
        "dfa.drop('CALIDAD_ALC',inplace=True,axis=1)\n",
        "dfa.drop('CALIDAD_CONDUC',inplace=True,axis=1)\n",
        "dfa.drop('CALIDAD_SDT_ra',inplace=True,axis=1)\n",
        "dfa.drop('CALIDAD_SDT_salin',inplace=True,axis=1)\n",
        "dfa.drop('SUBTIPO',inplace=True,axis=1)\n",
        "corrs = dfa.corr()\n",
        "sns.set(rc = {'figure.figsize':(10,5)})\n",
        "sns.heatmap(corrs, vmin = -1, vmax = 1, cmap = \"BuGn\", annot= True)\n",
        "#CADA UNA DE LAS VARIABLES TIENEN SU PROPIA INFORMACIÓN Y NO ES NECESARIO QUITAR ALGUNA. \n",
        "#AL MENOS ESO SE PUEDE DEDUCIR CON LA CORRELACIÓN"
      ],
      "metadata": {
        "id": "un_L72hN45_A",
        "outputId": "c5e3ca97-0292-4a87-fa5f-2afb64702ca8",
        "colab": {
          "base_uri": "https://localhost:8080/",
          "height": 435
        }
      },
      "execution_count": 18,
      "outputs": [
        {
          "output_type": "execute_result",
          "data": {
            "text/plain": [
              "<matplotlib.axes._subplots.AxesSubplot at 0x7f71604d9150>"
            ]
          },
          "metadata": {},
          "execution_count": 18
        },
        {
          "output_type": "display_data",
          "data": {
            "text/plain": [
              "<Figure size 720x360 with 2 Axes>"
            ],
            "image/png": "[encoded data removed]"
          },
          "metadata": {}
        }
      ]
    },
    {
      "cell_type": "code",
      "source": [
        "dfc = df.copy()\n",
        "dfc.drop('LONGITUD',inplace=True,axis=1)\n",
        "dfc.drop('LATITUD',inplace=True,axis=1)\n",
        "dfc.drop('ALC_mg/L',inplace=True,axis=1)\n",
        "dfc.drop('CONDUCT_mS/cm',inplace=True,axis=1)\n",
        "dfc.drop('SDT_M_mg/L',inplace=True,axis=1)\n",
        "dfc.drop('FLUORUROS_mg/L',inplace=True,axis=1)\n",
        "dfc.drop('DUR_mg/L',inplace=True,axis=1)\n",
        "dfc.drop('N_NO3_mg/L',inplace=True,axis=1)"
      ],
      "metadata": {
        "id": "UfePczqID49f"
      },
      "execution_count": 19,
      "outputs": []
    },
    {
      "cell_type": "code",
      "source": [
        "from scipy.stats import chi2_contingency\n",
        "CrosstabResult=pd.crosstab(index=dfc['CALIDAD_FLUO'],columns=dfc['CALIDAD_ALC'])\n",
        "print(CrosstabResult)\n",
        "ChiSqResult = chi2_contingency(CrosstabResult)\n",
        "print(ChiSqResult[1]) #ESTÁN RELACIONADAS LAS VARIABLES. PODEMOS ELIMINAR UNA Y SEGUIR TENIENDO LA INFORMACIÓN"
      ],
      "metadata": {
        "id": "E4xaLz4fFtsR",
        "outputId": "7e974731-afb2-4b26-8820-8023bae2b171",
        "colab": {
          "base_uri": "https://localhost:8080/"
        }
      },
      "execution_count": 20,
      "outputs": [
        {
          "output_type": "stream",
          "name": "stdout",
          "text": [
            "CALIDAD_ALC       Alta  Baja  Indeseable como FAAP  Media\n",
            "CALIDAD_FLUO                                             \n",
            "Alta               140     2                    17     31\n",
            "Baja               315    17                    12     82\n",
            "Media              161     3                    10     39\n",
            "Potable - Optima   174     1                    18     32\n",
            "0.0016775950489024867\n"
          ]
        }
      ]
    },
    {
      "cell_type": "code",
      "source": [
        "CrosstabResult=pd.crosstab(index=dfc['CALIDAD_FLUO'],columns=dfc['CALIDAD_CONDUC'])\n",
        "print(CrosstabResult)\n",
        "ChiSqResult = chi2_contingency(CrosstabResult)\n",
        "print(ChiSqResult[1]) #ESTÁN RELACIONADAS LAS VARIABLES. PODEMOS ELIMINAR UNA Y SEGUIR TENIENDO LA INFORMACIÓN"
      ],
      "metadata": {
        "id": "-oS3zA0PHW0I",
        "outputId": "2811a768-daa6-401c-c4d0-a8207bb59cf0",
        "colab": {
          "base_uri": "https://localhost:8080/"
        }
      },
      "execution_count": 21,
      "outputs": [
        {
          "output_type": "stream",
          "name": "stdout",
          "text": [
            "CALIDAD_CONDUC    Buena para riego  Dudosa para riego  Excelente para riego  \\\n",
            "CALIDAD_FLUO                                                                  \n",
            "Alta                            96                 10                     4   \n",
            "Baja                           166                 28                    28   \n",
            "Media                           75                 13                     8   \n",
            "Potable - Optima                92                 21                     4   \n",
            "\n",
            "CALIDAD_CONDUC    Indeseable para riego  Permisible para riego  \n",
            "CALIDAD_FLUO                                                    \n",
            "Alta                                  9                     71  \n",
            "Baja                                 18                    186  \n",
            "Media                                 9                    108  \n",
            "Potable - Optima                     15                     93  \n",
            "0.008135815235329772\n"
          ]
        }
      ]
    },
    {
      "cell_type": "code",
      "source": [
        "CrosstabResult=pd.crosstab(index=dfc['CALIDAD_FLUO'],columns=dfc['CALIDAD_SDT_ra'])\n",
        "print(CrosstabResult)\n",
        "ChiSqResult = chi2_contingency(CrosstabResult)\n",
        "print(ChiSqResult[1]) #ESTÁN RELACIONADAS LAS VARIABLES. PODEMOS ELIMINAR UNA Y SEGUIR TENIENDO LA INFORMACIÓN"
      ],
      "metadata": {
        "id": "lJKI7e6ZHi24",
        "outputId": "6620a65c-5ebd-4e3f-d761-e130084596bb",
        "colab": {
          "base_uri": "https://localhost:8080/"
        }
      },
      "execution_count": 22,
      "outputs": [
        {
          "output_type": "stream",
          "name": "stdout",
          "text": [
            "CALIDAD_SDT_ra    Cultivos con manejo especial  Cultivos sensibles  \\\n",
            "CALIDAD_FLUO                                                         \n",
            "Alta                                        22                  50   \n",
            "Baja                                        54                 154   \n",
            "Media                                       40                  70   \n",
            "Potable - Optima                            42                  67   \n",
            "\n",
            "CALIDAD_SDT_ra    Cultivos tolerantes  Excelente para riego  \\\n",
            "CALIDAD_FLUO                                                  \n",
            "Alta                               13                   103   \n",
            "Baja                               19                   198   \n",
            "Media                              13                    87   \n",
            "Potable - Optima                   18                    97   \n",
            "\n",
            "CALIDAD_SDT_ra    Indeseable para riego  \n",
            "CALIDAD_FLUO                             \n",
            "Alta                                  2  \n",
            "Baja                                  1  \n",
            "Media                                 3  \n",
            "Potable - Optima                      1  \n",
            "0.027686117327121663\n"
          ]
        }
      ]
    },
    {
      "cell_type": "code",
      "source": [
        "CrosstabResult=pd.crosstab(index=dfc['CALIDAD_FLUO'],columns=dfc['CALIDAD_SDT_salin'])\n",
        "print(CrosstabResult)\n",
        "ChiSqResult = chi2_contingency(CrosstabResult)\n",
        "print(ChiSqResult[1]) #SE RECHAZA QUE ESTÉN RELACIONADOS, POR TANTO SE MANTIENEN"
      ],
      "metadata": {
        "id": "4FnoFvlYHvcX",
        "outputId": "dde76d9a-7494-42b0-e128-82682502bd95",
        "colab": {
          "base_uri": "https://localhost:8080/"
        }
      },
      "execution_count": 23,
      "outputs": [
        {
          "output_type": "stream",
          "name": "stdout",
          "text": [
            "CALIDAD_SDT_salin  Ligeramente salobres  Potable - Dulce  Salinas  Salobres\n",
            "CALIDAD_FLUO                                                               \n",
            "Alta                                 22              153        0        15\n",
            "Baja                                 54              352        1        19\n",
            "Media                                40              157        1        15\n",
            "Potable - Optima                     42              164        1        18\n",
            "0.09417016243426937\n"
          ]
        }
      ]
    },
    {
      "cell_type": "code",
      "source": [
        "CrosstabResult=pd.crosstab(index=dfc['CALIDAD_FLUO'],columns=dfc['SUBTIPO'])\n",
        "print(CrosstabResult)\n",
        "ChiSqResult = chi2_contingency(CrosstabResult)\n",
        "print(ChiSqResult[1]) #NO ESTÁ RELACIONADO PORQUE LA CLASE ESTÁ DESBALANCEADA Y SE TIENE MÁS INFORMACIÓN DE LOS POZOS\n",
        "#QUE PROBABLEMENTE NO SEA LO MEJOR MANTENERLA"
      ],
      "metadata": {
        "id": "uf_2jufNIBNB",
        "outputId": "9dbc01a0-eb41-4a3a-e9bc-714239a94737",
        "colab": {
          "base_uri": "https://localhost:8080/"
        }
      },
      "execution_count": 24,
      "outputs": [
        {
          "output_type": "stream",
          "name": "stdout",
          "text": [
            "SUBTIPO           BOMBEO CENOTE  CENOTE  DESCARGA  MANANTIAL  NORIA  POZO  \\\n",
            "CALIDAD_FLUO                                                                \n",
            "Alta                          0       0         0          1      0   189   \n",
            "Baja                          1       2         1          5      2   412   \n",
            "Media                         0       2         0          4      0   206   \n",
            "Potable - Optima              0       3         0          2      1   218   \n",
            "\n",
            "SUBTIPO           POZO NORIA  Pozo  \n",
            "CALIDAD_FLUO                        \n",
            "Alta                       0     0  \n",
            "Baja                       2     1  \n",
            "Media                      1     0  \n",
            "Potable - Optima           1     0  \n",
            "0.9304478408487199\n"
          ]
        }
      ]
    },
    {
      "cell_type": "code",
      "source": [
        "df.drop('CALIDAD_ALC',inplace=True,axis=1)\n",
        "df.drop('CALIDAD_CONDUC',inplace=True,axis=1)\n",
        "df.drop('CALIDAD_SDT_ra',inplace=True,axis=1)\n",
        "df.drop('SUBTIPO',inplace=True,axis=1)"
      ],
      "metadata": {
        "id": "wm2S_6UHH6C3"
      },
      "execution_count": 25,
      "outputs": []
    },
    {
      "cell_type": "code",
      "source": [
        "df.head()"
      ],
      "metadata": {
        "id": "QCiYrYPzIzcQ",
        "outputId": "d3be68d3-d33d-4cf2-84b4-5fe603122136",
        "colab": {
          "base_uri": "https://localhost:8080/",
          "height": 250
        }
      },
      "execution_count": 26,
      "outputs": [
        {
          "output_type": "execute_result",
          "data": {
            "text/plain": [
              "    LONGITUD   LATITUD  ALC_mg/L  CONDUCT_mS/cm  SDT_M_mg/L  \\\n",
              "0 -102.02210  22.20887   229.990          940.0       603.6   \n",
              "1 -102.20075  21.99958   231.990          608.0       445.4   \n",
              "2 -102.28801  22.36685   204.920          532.0       342.0   \n",
              "3 -102.29449  22.18435   327.000          686.0       478.6   \n",
              "4 -110.24480  23.45138   309.885         1841.0      1179.0   \n",
              "\n",
              "      CALIDAD_SDT_salin  FLUORUROS_mg/L      CALIDAD_FLUO  DUR_mg/L  \\\n",
              "0       Potable - Dulce          0.9766  Potable - Optima  213.7320   \n",
              "1       Potable - Dulce          0.9298  Potable - Optima  185.0514   \n",
              "2       Potable - Dulce          1.8045              Alta  120.7190   \n",
              "3       Potable - Dulce          1.1229  Potable - Optima  199.8790   \n",
              "4  Ligeramente salobres          0.2343              Baja  476.9872   \n",
              "\n",
              "   N_NO3_mg/L  \n",
              "0    4.184656  \n",
              "1    5.750110  \n",
              "2    1.449803  \n",
              "3    1.258597  \n",
              "4   15.672251  "
            ],
            "text/html": [
              "\n",
              "  <div id=\"df-0f278f8a-a139-4072-a829-b5844991feaa\">\n",
              "    <div class=\"colab-df-container\">\n",
              "      <div>\n",
              "<style scoped>\n",
              "    .dataframe tbody tr th:only-of-type {\n",
              "        vertical-align: middle;\n",
              "    }\n",
              "\n",
              "    .dataframe tbody tr th {\n",
              "        vertical-align: top;\n",
              "    }\n",
              "\n",
              "    .dataframe thead th {\n",
              "        text-align: right;\n",
              "    }\n",
              "</style>\n",
              "<table border=\"1\" class=\"dataframe\">\n",
              "  <thead>\n",
              "    <tr style=\"text-align: right;\">\n",
              "      <th></th>\n",
              "      <th>LONGITUD</th>\n",
              "      <th>LATITUD</th>\n",
              "      <th>ALC_mg/L</th>\n",
              "      <th>CONDUCT_mS/cm</th>\n",
              "      <th>SDT_M_mg/L</th>\n",
              "      <th>CALIDAD_SDT_salin</th>\n",
              "      <th>FLUORUROS_mg/L</th>\n",
              "      <th>CALIDAD_FLUO</th>\n",
              "      <th>DUR_mg/L</th>\n",
              "      <th>N_NO3_mg/L</th>\n",
              "    </tr>\n",
              "  </thead>\n",
              "  <tbody>\n",
              "    <tr>\n",
              "      <th>0</th>\n",
              "      <td>-102.02210</td>\n",
              "      <td>22.20887</td>\n",
              "      <td>229.990</td>\n",
              "      <td>940.0</td>\n",
              "      <td>603.6</td>\n",
              "      <td>Potable - Dulce</td>\n",
              "      <td>0.9766</td>\n",
              "      <td>Potable - Optima</td>\n",
              "      <td>213.7320</td>\n",
              "      <td>4.184656</td>\n",
              "    </tr>\n",
              "    <tr>\n",
              "      <th>1</th>\n",
              "      <td>-102.20075</td>\n",
              "      <td>21.99958</td>\n",
              "      <td>231.990</td>\n",
              "      <td>608.0</td>\n",
              "      <td>445.4</td>\n",
              "      <td>Potable - Dulce</td>\n",
              "      <td>0.9298</td>\n",
              "      <td>Potable - Optima</td>\n",
              "      <td>185.0514</td>\n",
              "      <td>5.750110</td>\n",
              "    </tr>\n",
              "    <tr>\n",
              "      <th>2</th>\n",
              "      <td>-102.28801</td>\n",
              "      <td>22.36685</td>\n",
              "      <td>204.920</td>\n",
              "      <td>532.0</td>\n",
              "      <td>342.0</td>\n",
              "      <td>Potable - Dulce</td>\n",
              "      <td>1.8045</td>\n",
              "      <td>Alta</td>\n",
              "      <td>120.7190</td>\n",
              "      <td>1.449803</td>\n",
              "    </tr>\n",
              "    <tr>\n",
              "      <th>3</th>\n",
              "      <td>-102.29449</td>\n",
              "      <td>22.18435</td>\n",
              "      <td>327.000</td>\n",
              "      <td>686.0</td>\n",
              "      <td>478.6</td>\n",
              "      <td>Potable - Dulce</td>\n",
              "      <td>1.1229</td>\n",
              "      <td>Potable - Optima</td>\n",
              "      <td>199.8790</td>\n",
              "      <td>1.258597</td>\n",
              "    </tr>\n",
              "    <tr>\n",
              "      <th>4</th>\n",
              "      <td>-110.24480</td>\n",
              "      <td>23.45138</td>\n",
              "      <td>309.885</td>\n",
              "      <td>1841.0</td>\n",
              "      <td>1179.0</td>\n",
              "      <td>Ligeramente salobres</td>\n",
              "      <td>0.2343</td>\n",
              "      <td>Baja</td>\n",
              "      <td>476.9872</td>\n",
              "      <td>15.672251</td>\n",
              "    </tr>\n",
              "  </tbody>\n",
              "</table>\n",
              "</div>\n",
              "      <button class=\"colab-df-convert\" onclick=\"convertToInteractive('df-0f278f8a-a139-4072-a829-b5844991feaa')\"\n",
              "              title=\"Convert this dataframe to an interactive table.\"\n",
              "              style=\"display:none;\">\n",
              "        \n",
              "  <svg xmlns=\"http://www.w3.org/2000/svg\" height=\"24px\"viewBox=\"0 0 24 24\"\n",
              "       width=\"24px\">\n",
              "    <path d=\"M0 0h24v24H0V0z\" fill=\"none\"/>\n",
              "    <path d=\"M18.56 5.44l.94 2.06.94-2.06 2.06-.94-2.06-.94-.94-2.06-.94 2.06-2.06.94zm-11 1L8.5 8.5l.94-2.06 2.06-.94-2.06-.94L8.5 2.5l-.94 2.06-2.06.94zm10 10l.94 2.06.94-2.06 2.06-.94-2.06-.94-.94-2.06-.94 2.06-2.06.94z\"/><path d=\"M17.41 7.96l-1.37-1.37c-.4-.4-.92-.59-1.43-.59-.52 0-1.04.2-1.43.59L10.3 9.45l-7.72 7.72c-.78.78-.78 2.05 0 2.83L4 21.41c.39.39.9.59 1.41.59.51 0 1.02-.2 1.41-.59l7.78-7.78 2.81-2.81c.8-.78.8-2.07 0-2.86zM5.41 20L4 18.59l7.72-7.72 1.47 1.35L5.41 20z\"/>\n",
              "  </svg>\n",
              "      </button>\n",
              "      \n",
              "  <style>\n",
              "    .colab-df-container {\n",
              "      display:flex;\n",
              "      flex-wrap:wrap;\n",
              "      gap: 12px;\n",
              "    }\n",
              "\n",
              "    .colab-df-convert {\n",
              "      background-color: #E8F0FE;\n",
              "      border: none;\n",
              "      border-radius: 50%;\n",
              "      cursor: pointer;\n",
              "      display: none;\n",
              "      fill: #1967D2;\n",
              "      height: 32px;\n",
              "      padding: 0 0 0 0;\n",
              "      width: 32px;\n",
              "    }\n",
              "\n",
              "    .colab-df-convert:hover {\n",
              "      background-color: #E2EBFA;\n",
              "      box-shadow: 0px 1px 2px rgba(60, 64, 67, 0.3), 0px 1px 3px 1px rgba(60, 64, 67, 0.15);\n",
              "      fill: #174EA6;\n",
              "    }\n",
              "\n",
              "    [theme=dark] .colab-df-convert {\n",
              "      background-color: #3B4455;\n",
              "      fill: #D2E3FC;\n",
              "    }\n",
              "\n",
              "    [theme=dark] .colab-df-convert:hover {\n",
              "      background-color: #434B5C;\n",
              "      box-shadow: 0px 1px 3px 1px rgba(0, 0, 0, 0.15);\n",
              "      filter: drop-shadow(0px 1px 2px rgba(0, 0, 0, 0.3));\n",
              "      fill: #FFFFFF;\n",
              "    }\n",
              "  </style>\n",
              "\n",
              "      <script>\n",
              "        const buttonEl =\n",
              "          document.querySelector('#df-0f278f8a-a139-4072-a829-b5844991feaa button.colab-df-convert');\n",
              "        buttonEl.style.display =\n",
              "          google.colab.kernel.accessAllowed ? 'block' : 'none';\n",
              "\n",
              "        async function convertToInteractive(key) {\n",
              "          const element = document.querySelector('#df-0f278f8a-a139-4072-a829-b5844991feaa');\n",
              "          const dataTable =\n",
              "            await google.colab.kernel.invokeFunction('convertToInteractive',\n",
              "                                                     [key], {});\n",
              "          if (!dataTable) return;\n",
              "\n",
              "          const docLinkHtml = 'Like what you see? Visit the ' +\n",
              "            '<a target=\"_blank\" href=https://colab.research.google.com/notebooks/data_table.ipynb>data table notebook</a>'\n",
              "            + ' to learn more about interactive tables.';\n",
              "          element.innerHTML = '';\n",
              "          dataTable['output_type'] = 'display_data';\n",
              "          await google.colab.output.renderOutput(dataTable, element);\n",
              "          const docLink = document.createElement('div');\n",
              "          docLink.innerHTML = docLinkHtml;\n",
              "          element.appendChild(docLink);\n",
              "        }\n",
              "      </script>\n",
              "    </div>\n",
              "  </div>\n",
              "  "
            ]
          },
          "metadata": {},
          "execution_count": 26
        }
      ]
    },
    {
      "cell_type": "code",
      "source": [
        "! pip install qeds fiona geopandas xgboost gensim folium pyLDAvis descartes"
      ],
      "metadata": {
        "colab": {
          "base_uri": "https://localhost:8080/"
        },
        "id": "_UQbe3bk8shn",
        "outputId": "48ed3cf2-9e23-4569-ddf2-8ee1081b8ef4"
      },
      "execution_count": 27,
      "outputs": [
        {
          "output_type": "stream",
          "name": "stdout",
          "text": [
            "Looking in indexes: https://pypi.org/simple, https://us-python.pkg.dev/colab-wheels/public/simple/\n",
            "Collecting qeds\n",
            "  Downloading qeds-0.7.0.tar.gz (24 kB)\n",
            "Collecting fiona\n",
            "  Downloading Fiona-1.8.22-cp37-cp37m-manylinux2014_x86_64.whl (16.7 MB)\n",
            "\u001b[K     |████████████████████████████████| 16.7 MB 9.8 MB/s \n",
            "\u001b[?25hCollecting geopandas\n",
            "  Downloading geopandas-0.10.2-py2.py3-none-any.whl (1.0 MB)\n",
            "\u001b[K     |████████████████████████████████| 1.0 MB 45.4 MB/s \n",
            "\u001b[?25hRequirement already satisfied: xgboost in /usr/local/lib/python3.7/dist-packages (0.90)\n",
            "Requirement already satisfied: gensim in /usr/local/lib/python3.7/dist-packages (3.6.0)\n",
            "Requirement already satisfied: folium in /usr/local/lib/python3.7/dist-packages (0.12.1.post1)\n",
            "Collecting pyLDAvis\n",
            "  Downloading pyLDAvis-3.3.1.tar.gz (1.7 MB)\n",
            "\u001b[K     |████████████████████████████████| 1.7 MB 36.0 MB/s \n",
            "\u001b[?25h  Installing build dependencies ... \u001b[?25l\u001b[?25hdone\n",
            "  Getting requirements to build wheel ... \u001b[?25l\u001b[?25hdone\n",
            "  Installing backend dependencies ... \u001b[?25l\u001b[?25hdone\n",
            "    Preparing wheel metadata ... \u001b[?25l\u001b[?25hdone\n",
            "Requirement already satisfied: descartes in /usr/local/lib/python3.7/dist-packages (1.1.0)\n",
            "Requirement already satisfied: pandas in /usr/local/lib/python3.7/dist-packages (from qeds) (1.3.5)\n",
            "Requirement already satisfied: requests in /usr/local/lib/python3.7/dist-packages (from qeds) (2.23.0)\n",
            "Collecting quandl\n",
            "  Downloading Quandl-3.7.0-py2.py3-none-any.whl (26 kB)\n",
            "Requirement already satisfied: scipy in /usr/local/lib/python3.7/dist-packages (from qeds) (1.7.3)\n",
            "Requirement already satisfied: numpy in /usr/local/lib/python3.7/dist-packages (from qeds) (1.21.6)\n",
            "Collecting quantecon\n",
            "  Downloading quantecon-0.5.3-py3-none-any.whl (179 kB)\n",
            "\u001b[K     |████████████████████████████████| 179 kB 51.3 MB/s \n",
            "\u001b[?25hRequirement already satisfied: matplotlib in /usr/local/lib/python3.7/dist-packages (from qeds) (3.2.2)\n",
            "Requirement already satisfied: pyarrow in /usr/local/lib/python3.7/dist-packages (from qeds) (6.0.1)\n",
            "Requirement already satisfied: openpyxl in /usr/local/lib/python3.7/dist-packages (from qeds) (3.0.10)\n",
            "Requirement already satisfied: plotly in /usr/local/lib/python3.7/dist-packages (from qeds) (5.5.0)\n",
            "Requirement already satisfied: pandas_datareader in /usr/local/lib/python3.7/dist-packages (from qeds) (0.9.0)\n",
            "Requirement already satisfied: scikit-learn in /usr/local/lib/python3.7/dist-packages (from qeds) (1.0.2)\n",
            "Requirement already satisfied: seaborn in /usr/local/lib/python3.7/dist-packages (from qeds) (0.11.2)\n",
            "Requirement already satisfied: statsmodels in /usr/local/lib/python3.7/dist-packages (from qeds) (0.12.2)\n",
            "Collecting cligj>=0.5\n",
            "  Downloading cligj-0.7.2-py3-none-any.whl (7.1 kB)\n",
            "Requirement already satisfied: six>=1.7 in /usr/local/lib/python3.7/dist-packages (from fiona) (1.15.0)\n",
            "Collecting munch\n",
            "  Downloading munch-2.5.0-py2.py3-none-any.whl (10 kB)\n",
            "Requirement already satisfied: click>=4.0 in /usr/local/lib/python3.7/dist-packages (from fiona) (7.1.2)\n",
            "Collecting click-plugins>=1.0\n",
            "  Downloading click_plugins-1.1.1-py2.py3-none-any.whl (7.5 kB)\n",
            "Requirement already satisfied: attrs>=17 in /usr/local/lib/python3.7/dist-packages (from fiona) (22.1.0)\n",
            "Requirement already satisfied: certifi in /usr/local/lib/python3.7/dist-packages (from fiona) (2022.9.24)\n",
            "Requirement already satisfied: setuptools in /usr/local/lib/python3.7/dist-packages (from fiona) (57.4.0)\n",
            "Collecting pyproj>=2.2.0\n",
            "  Downloading pyproj-3.2.1-cp37-cp37m-manylinux2010_x86_64.whl (6.3 MB)\n",
            "\u001b[K     |████████████████████████████████| 6.3 MB 40.3 MB/s \n",
            "\u001b[?25hRequirement already satisfied: shapely>=1.6 in /usr/local/lib/python3.7/dist-packages (from geopandas) (1.8.5.post1)\n",
            "Requirement already satisfied: python-dateutil>=2.7.3 in /usr/local/lib/python3.7/dist-packages (from pandas->qeds) (2.8.2)\n",
            "Requirement already satisfied: pytz>=2017.3 in /usr/local/lib/python3.7/dist-packages (from pandas->qeds) (2022.6)\n",
            "Requirement already satisfied: smart-open>=1.2.1 in /usr/local/lib/python3.7/dist-packages (from gensim) (5.2.1)\n",
            "Requirement already satisfied: jinja2>=2.9 in /usr/local/lib/python3.7/dist-packages (from folium) (2.11.3)\n",
            "Requirement already satisfied: branca>=0.3.0 in /usr/local/lib/python3.7/dist-packages (from folium) (0.6.0)\n",
            "Requirement already satisfied: MarkupSafe>=0.23 in /usr/local/lib/python3.7/dist-packages (from jinja2>=2.9->folium) (2.0.1)\n",
            "Collecting sklearn\n",
            "  Downloading sklearn-0.0.post1.tar.gz (3.6 kB)\n",
            "Collecting funcy\n",
            "  Downloading funcy-1.17-py2.py3-none-any.whl (33 kB)\n",
            "Requirement already satisfied: joblib in /usr/local/lib/python3.7/dist-packages (from pyLDAvis) (1.2.0)\n",
            "Requirement already satisfied: numexpr in /usr/local/lib/python3.7/dist-packages (from pyLDAvis) (2.8.4)\n",
            "Requirement already satisfied: future in /usr/local/lib/python3.7/dist-packages (from pyLDAvis) (0.16.0)\n",
            "Requirement already satisfied: pyparsing!=2.0.4,!=2.1.2,!=2.1.6,>=2.0.1 in /usr/local/lib/python3.7/dist-packages (from matplotlib->qeds) (3.0.9)\n",
            "Requirement already satisfied: kiwisolver>=1.0.1 in /usr/local/lib/python3.7/dist-packages (from matplotlib->qeds) (1.4.4)\n",
            "Requirement already satisfied: cycler>=0.10 in /usr/local/lib/python3.7/dist-packages (from matplotlib->qeds) (0.11.0)\n",
            "Requirement already satisfied: typing-extensions in /usr/local/lib/python3.7/dist-packages (from kiwisolver>=1.0.1->matplotlib->qeds) (4.1.1)\n",
            "Requirement already satisfied: et-xmlfile in /usr/local/lib/python3.7/dist-packages (from openpyxl->qeds) (1.1.0)\n",
            "Requirement already satisfied: lxml in /usr/local/lib/python3.7/dist-packages (from pandas_datareader->qeds) (4.9.1)\n",
            "Requirement already satisfied: chardet<4,>=3.0.2 in /usr/local/lib/python3.7/dist-packages (from requests->qeds) (3.0.4)\n",
            "Requirement already satisfied: urllib3!=1.25.0,!=1.25.1,<1.26,>=1.21.1 in /usr/local/lib/python3.7/dist-packages (from requests->qeds) (1.24.3)\n",
            "Requirement already satisfied: idna<3,>=2.5 in /usr/local/lib/python3.7/dist-packages (from requests->qeds) (2.10)\n",
            "Requirement already satisfied: tenacity>=6.2.0 in /usr/local/lib/python3.7/dist-packages (from plotly->qeds) (8.1.0)\n",
            "Collecting inflection>=0.3.1\n",
            "  Downloading inflection-0.5.1-py2.py3-none-any.whl (9.5 kB)\n",
            "Requirement already satisfied: more-itertools in /usr/local/lib/python3.7/dist-packages (from quandl->qeds) (9.0.0)\n",
            "Requirement already satisfied: numba in /usr/local/lib/python3.7/dist-packages (from quantecon->qeds) (0.56.4)\n",
            "Requirement already satisfied: sympy in /usr/local/lib/python3.7/dist-packages (from quantecon->qeds) (1.7.1)\n",
            "Requirement already satisfied: importlib-metadata in /usr/local/lib/python3.7/dist-packages (from numba->quantecon->qeds) (4.13.0)\n",
            "Requirement already satisfied: llvmlite<0.40,>=0.39.0dev0 in /usr/local/lib/python3.7/dist-packages (from numba->quantecon->qeds) (0.39.1)\n",
            "Requirement already satisfied: zipp>=0.5 in /usr/local/lib/python3.7/dist-packages (from importlib-metadata->numba->quantecon->qeds) (3.10.0)\n",
            "Requirement already satisfied: threadpoolctl>=2.0.0 in /usr/local/lib/python3.7/dist-packages (from scikit-learn->qeds) (3.1.0)\n",
            "Requirement already satisfied: patsy>=0.5 in /usr/local/lib/python3.7/dist-packages (from statsmodels->qeds) (0.5.3)\n",
            "Requirement already satisfied: mpmath>=0.19 in /usr/local/lib/python3.7/dist-packages (from sympy->quantecon->qeds) (1.2.1)\n",
            "Building wheels for collected packages: qeds, pyLDAvis, sklearn\n",
            "  Building wheel for qeds (setup.py) ... \u001b[?25l\u001b[?25hdone\n",
            "  Created wheel for qeds: filename=qeds-0.7.0-py3-none-any.whl size=27812 sha256=4ec1e86de137a50343358e7af0a01c677b487aa70d82e90486bde9c394df8c29\n",
            "  Stored in directory: /root/.cache/pip/wheels/fc/8c/52/0cc036b9730b75850b9845770780f8d05ed08ff38a67cbaa29\n",
            "  Building wheel for pyLDAvis (PEP 517) ... \u001b[?25l\u001b[?25hdone\n",
            "  Created wheel for pyLDAvis: filename=pyLDAvis-3.3.1-py2.py3-none-any.whl size=136898 sha256=e55e321c7633372c1cce3fb663f163020ab7a17593fd59b02158c1421ded4e86\n",
            "  Stored in directory: /root/.cache/pip/wheels/c9/21/f6/17bcf2667e8a68532ba2fbf6d5c72fdf4c7f7d9abfa4852d2f\n",
            "  Building wheel for sklearn (setup.py) ... \u001b[?25l\u001b[?25hdone\n",
            "  Created wheel for sklearn: filename=sklearn-0.0.post1-py3-none-any.whl size=2344 sha256=c5665926f1863b65cbf114c46199e7f7f0d5c8ccb37e6de537b367aed5b71771\n",
            "  Stored in directory: /root/.cache/pip/wheels/42/56/cc/4a8bf86613aafd5b7f1b310477667c1fca5c51c3ae4124a003\n",
            "Successfully built qeds pyLDAvis sklearn\n",
            "Installing collected packages: munch, inflection, cligj, click-plugins, sklearn, quantecon, quandl, pyproj, funcy, fiona, qeds, pyLDAvis, geopandas\n",
            "Successfully installed click-plugins-1.1.1 cligj-0.7.2 fiona-1.8.22 funcy-1.17 geopandas-0.10.2 inflection-0.5.1 munch-2.5.0 pyLDAvis-3.3.1 pyproj-3.2.1 qeds-0.7.0 quandl-3.7.0 quantecon-0.5.3 sklearn-0.0.post1\n"
          ]
        }
      ]
    },
    {
      "cell_type": "code",
      "source": [
        "import geopandas as gpd\n",
        "import matplotlib.pyplot as plt\n",
        "import pandas as pd\n",
        "from shapely.geometry import Point\n",
        "%matplotlib inline\n",
        "import qeds\n",
        "qeds.themes.mpl_style();\n",
        "dfplot = df.copy()\n",
        "dfplot[\"Coordinates\"] = list(zip(dfplot.LONGITUD, dfplot.LATITUD))\n",
        "dfplot[\"Coordinates\"] = dfplot[\"Coordinates\"].apply(Point)\n",
        "gdf = gpd.GeoDataFrame(dfplot, geometry=\"Coordinates\")\n",
        "world = gpd.read_file(gpd.datasets.get_path(\"naturalearth_lowres\"))\n",
        "world = world.set_index(\"iso_a3\")\n",
        "#num_vars = ['LONGITUD','LATITUD','ALC_mg/L','CONDUCT_mS/cm','SDT_M_mg/L','FLUORUROS_mg/L','DUR_mg/L','N_NO3_mg/L']\n",
        "for k in range(6):\n",
        "  fig, gax = plt.subplots(figsize=(4,4))\n",
        "  world.query(\"name == 'Mexico'\").plot(ax=gax, edgecolor='black',color='white')\n",
        "  dfplot.plot(ax=gax, kind=\"scatter\", x=\"LONGITUD\", y=\"LATITUD\", grid=True, \n",
        "              s=20, c=num_vars[k+2], cmap=\"jet\", colorbar=True,legend=True, \n",
        "              sharex=False,figsize=(4,4))\n",
        "  gax.set_xlabel('longitude')\n",
        "  gax.set_ylabel('latitude')\n",
        "  gax.set_title(num_vars[k+2])\n",
        "  gax.spines['top'].set_visible(False)\n",
        "  gax.spines['right'].set_visible(False)\n",
        "\n",
        "  #A CONTINUACIÓN SE PUEDEN VER LOS PUNTOS EN EL PAÍS CON UN MAPA DE CALOR DE LAS RESPECTIVAS VARIABLES NUMÉRICAS.\n",
        "  #A PARTIR DE AHÍ PODEMOS DEDUCIR QUE EFECTIVAMENTE LAS VARIABLES NO ESTÁN CORRELACIONADAS. CADA UNA APORTA INFORMACIÓN \n",
        "  #DIFERENTE. EN CIERTAS PARTES, LA CONCENTRACIÓN DE EN EL CENTRO DEL PAÍS ES BAJA CON RESPECTO A ALC Y FLUORUROS PERO EN \n",
        "  #EL RESTO ES ALTA. "
      ],
      "metadata": {
        "colab": {
          "base_uri": "https://localhost:8080/",
          "height": 1000
        },
        "id": "5iGdVACQ7c8D",
        "outputId": "a51920cd-3d98-4d7b-a60b-257c82e5c12c"
      },
      "execution_count": 29,
      "outputs": [
        {
          "output_type": "display_data",
          "data": {
            "text/plain": [
              "<Figure size 288x288 with 2 Axes>"
            ],
            "image/png": "[encoded data removed]"
          },
          "metadata": {}
        },
        {
          "output_type": "display_data",
          "data": {
            "text/plain": [
              "<Figure size 288x288 with 2 Axes>"
            ],
            "image/png": "[encoded data removed]"
          },
          "metadata": {}
        },
        {
          "output_type": "display_data",
          "data": {
            "text/plain": [
              "<Figure size 288x288 with 2 Axes>"
            ],
            "image/png": "[encoded data removed]"
          },
          "metadata": {}
        },
        {
          "output_type": "display_data",
          "data": {
            "text/plain": [
              "<Figure size 288x288 with 2 Axes>"
            ],
            "image/png": "[encoded data removed]"
          },
          "metadata": {}
        },
        {
          "output_type": "display_data",
          "data": {
            "text/plain": [
              "<Figure size 288x288 with 2 Axes>"
            ],
            "image/png": "[encoded data removed]"
          },
          "metadata": {}
        },
        {
          "output_type": "display_data",
          "data": {
            "text/plain": [
              "<Figure size 288x288 with 2 Axes>"
            ],
            "image/png": "[encoded data removed]"
          },
          "metadata": {}
        }
      ]
    },
    {
      "cell_type": "code",
      "source": [
        "from sklearn.cluster import KMeans\n",
        "latlong=df[[\"LATITUD\",\"LONGITUD\"]]\n",
        "XKMEANS = latlong.copy()\n",
        "YKMEANS = latlong.copy()\n",
        "YKMEANS.drop('LONGITUD', inplace=True, axis=1)\n",
        "XKMEANS.drop('LATITUD', inplace=True, axis=1)\n",
        "k = 10\n",
        "kmeans = KMeans(n_clusters=k, random_state=42)\n",
        "y_pred = kmeans.fit_predict(latlong)\n",
        "dfKMEANS = kmeans.cluster_centers_\n",
        "array1 = []\n",
        "array2 = []\n",
        "for i in range(k):\n",
        "  array1.append(dfKMEANS[i][1])\n",
        "  array2.append(dfKMEANS[i][0])\n",
        "dfKMEANS = {'X':array1,'Y':array2}\n",
        "dfKMEANS = pd.DataFrame(dfKMEANS)\n",
        "plt.plot(XKMEANS, YKMEANS, \"b.\")\n",
        "plt.plot(dfKMEANS['X'],dfKMEANS['Y'],\"r.\",markersize=12)"
      ],
      "metadata": {
        "colab": {
          "base_uri": "https://localhost:8080/",
          "height": 290
        },
        "id": "tCRS3GycJOrP",
        "outputId": "5e850b9d-2178-4c19-855f-3c64003addd8"
      },
      "execution_count": 35,
      "outputs": [
        {
          "output_type": "execute_result",
          "data": {
            "text/plain": [
              "[<matplotlib.lines.Line2D at 0x7f7150b70fd0>]"
            ]
          },
          "metadata": {},
          "execution_count": 35
        },
        {
          "output_type": "display_data",
          "data": {
            "text/plain": [
              "<Figure size 432x288 with 1 Axes>"
            ],
            "image/png": "[encoded data removed]"
          },
          "metadata": {}
        }
      ]
    },
    {
      "cell_type": "code",
      "source": [
        "#num_vars = ['LONGITUD','LATITUD','ALC_mg/L','CONDUCT_mS/cm','SDT_M_mg/L','FLUORUROS_mg/L','DUR_mg/L','N_NO3_mg/L']\n",
        "import statistics\n",
        "\n",
        "def kmeans(evaluacion):\n",
        "  bajanorte = []\n",
        "  mexico = []\n",
        "  yucatan = []\n",
        "  sanluis = []\n",
        "  puebla = []\n",
        "  bajacaliforniasur = []\n",
        "  nuevoleon = []\n",
        "  veracruz = []\n",
        "  sonora = []\n",
        "  chiapas = []\n",
        "  for i in range(len(df)):\n",
        "    for j in range(k):\n",
        "      if j==0:\n",
        "        xj = df.iloc[i]['LONGITUD'] - dfKMEANS.iloc[j]['X']\n",
        "        yk = df.iloc[i]['LATITUD'] - dfKMEANS.iloc[j]['Y']\n",
        "        error = abs(xj) + abs(yk)\n",
        "        valork = 0\n",
        "      else:\n",
        "        xj = df.iloc[i]['LONGITUD'] - dfKMEANS.iloc[j]['X']\n",
        "        yk = df.iloc[i]['LATITUD'] - dfKMEANS.iloc[j]['Y']\n",
        "        error2 = abs(xj) + abs(yk)\n",
        "        if error2<error:\n",
        "          error = error2\n",
        "          valork = j\n",
        "    if valork == 0:\n",
        "      bajanorte.append(df.iloc[i][evaluacion])\n",
        "    elif valork == 1:\n",
        "      mexico.append(df.iloc[i][evaluacion])\n",
        "    elif valork == 2:\n",
        "      yucatan.append(df.iloc[i][evaluacion])\n",
        "    elif valork == 3:\n",
        "      sanluis.append(df.iloc[i][evaluacion])\n",
        "    elif valork == 4:\n",
        "      puebla.append(df.iloc[i][evaluacion])\n",
        "    elif valork == 5:\n",
        "      bajacaliforniasur.append(df.iloc[i][evaluacion])\n",
        "    elif valork == 6:\n",
        "      nuevoleon.append(df.iloc[i][evaluacion])\n",
        "    elif valork == 7:\n",
        "      veracruz.append(df.iloc[i][evaluacion])\n",
        "    elif valork == 8:\n",
        "      sonora.append(df.iloc[i][evaluacion])\n",
        "    else:\n",
        "      chiapas.append(df.iloc[i][evaluacion])\n",
        "\n",
        "  print('bajanorte: ' + str(statistics.mean(bajanorte)))\n",
        "  print('mexico: ' + str(statistics.mean(mexico)))\n",
        "  print('yucatan: ' + str(statistics.mean(yucatan)))\n",
        "  print('sanluis: ' + str(statistics.mean(sanluis)))\n",
        "  print('puebla: ' + str(statistics.mean(puebla)))\n",
        "  print('bajacaliforniasur: ' + str(statistics.mean(bajacaliforniasur)))\n",
        "  print('nuevoleon: ' + str(statistics.mean(nuevoleon)))\n",
        "  print('veracruz: ' + str(statistics.mean(veracruz)))\n",
        "  print('sonora: ' + str(statistics.mean(sonora)))\n",
        "  print('chiapas: ' + str(statistics.mean(chiapas)))\n",
        "\n",
        "kmeans('ALC_mg/L')\n",
        "\n",
        "#Min es Nuevo León en ALC_mg/L.\n",
        "#Max es Yucatán. "
      ],
      "metadata": {
        "colab": {
          "base_uri": "https://localhost:8080/"
        },
        "id": "FPxc-Dx4O5cr",
        "outputId": "3f0f151a-1bbd-4d03-cfd3-967087c07091"
      },
      "execution_count": 53,
      "outputs": [
        {
          "output_type": "stream",
          "name": "stdout",
          "text": [
            "bajanorte: 228.763125\n",
            "mexico: 224.23037914691943\n",
            "yucatan: 286.5451239669421\n",
            "sanluis: 222.1474074074074\n",
            "puebla: 232.31210691823898\n",
            "bajacaliforniasur: 226.0642957746479\n",
            "nuevoleon: 185.0917741935484\n",
            "veracruz: 265.0984831460674\n",
            "sonora: 215.84971264367817\n",
            "chiapas: 235.81302083333333\n"
          ]
        }
      ]
    },
    {
      "cell_type": "code",
      "source": [
        "kmeans('CONDUCT_mS/cm') \n",
        "#Min: Mexico\n",
        "#Max: BajaNorte"
      ],
      "metadata": {
        "id": "JzTabTG1y26t",
        "outputId": "beb12cd9-6de7-4551-f6ca-edfbb0192eb8",
        "colab": {
          "base_uri": "https://localhost:8080/"
        }
      },
      "execution_count": 54,
      "outputs": [
        {
          "output_type": "stream",
          "name": "stdout",
          "text": [
            "bajanorte: 1610.1875\n",
            "mexico: 791.4047393364929\n",
            "yucatan: 1699.9917355371902\n",
            "sanluis: 994.5978835978837\n",
            "puebla: 1052.5025157232703\n",
            "bajacaliforniasur: 1544.9380281690142\n",
            "nuevoleon: 925.8064516129032\n",
            "veracruz: 1543.6359550561797\n",
            "sonora: 956.3448275862069\n",
            "chiapas: 836.5875\n"
          ]
        }
      ]
    },
    {
      "cell_type": "code",
      "source": [
        "kmeans('SDT_M_mg/L') \n",
        "#Min: Mexico\n",
        "#Max: Veracruz"
      ],
      "metadata": {
        "id": "C5kb9U29zGJB",
        "outputId": "0bdf731d-f67a-48d1-a352-d992a54add30",
        "colab": {
          "base_uri": "https://localhost:8080/"
        }
      },
      "execution_count": 55,
      "outputs": [
        {
          "output_type": "stream",
          "name": "stdout",
          "text": [
            "bajanorte: 1719.0416666666667\n",
            "mexico: 539.2783578199052\n",
            "yucatan: 1028.8495867768595\n",
            "sanluis: 764.3671952380953\n",
            "puebla: 609.8465408805032\n",
            "bajacaliforniasur: 1343.78028028169\n",
            "nuevoleon: 738.6903225806452\n",
            "veracruz: 2040.5138584269662\n",
            "sonora: 649.5632574712644\n",
            "chiapas: 556.9125\n"
          ]
        }
      ]
    },
    {
      "cell_type": "code",
      "source": [
        "kmeans('FLUORUROS_mg/L') \n",
        "#Min: BajaSur\n",
        "#Max: BajaNorte"
      ],
      "metadata": {
        "id": "Yf55YS4CzL2p",
        "outputId": "b30caca4-edd1-4b82-efb2-fd70dd0a601a",
        "colab": {
          "base_uri": "https://localhost:8080/"
        }
      },
      "execution_count": 56,
      "outputs": [
        {
          "output_type": "stream",
          "name": "stdout",
          "text": [
            "bajanorte: 1.5193\n",
            "mexico: 1.4148815165876778\n",
            "yucatan: 0.3967380165289256\n",
            "sanluis: 1.7622777777777778\n",
            "puebla: 0.600985534591195\n",
            "bajacaliforniasur: 0.34961267605633806\n",
            "nuevoleon: 2.3125548387096773\n",
            "veracruz: 0.9581258426966293\n",
            "sonora: 0.8303448275862069\n",
            "chiapas: 0.3930166666666667\n"
          ]
        }
      ]
    },
    {
      "cell_type": "code",
      "source": [
        "kmeans('DUR_mg/L') \n",
        "#Min: Mexico\n",
        "#Max: BajaNorte "
      ],
      "metadata": {
        "id": "avJsVfdrzL_I",
        "outputId": "c3c0f46d-205a-4f6f-fd33-d127dd1e5332",
        "colab": {
          "base_uri": "https://localhost:8080/"
        }
      },
      "execution_count": 57,
      "outputs": [
        {
          "output_type": "stream",
          "name": "stdout",
          "text": [
            "bajanorte: 623.1210708333333\n",
            "mexico: 180.17961090047393\n",
            "yucatan: 543.7055487603305\n",
            "sanluis: 310.4938021164021\n",
            "puebla: 305.9452176100629\n",
            "bajacaliforniasur: 403.46992112676054\n",
            "nuevoleon: 249.5794258064516\n",
            "veracruz: 592.797788764045\n",
            "sonora: 269.281516091954\n",
            "chiapas: 310.90244583333333\n"
          ]
        }
      ]
    },
    {
      "cell_type": "code",
      "source": [
        "kmeans('N_NO3_mg/L')\n",
        "#Min: Chiapas\n",
        "#Max: SanLuis "
      ],
      "metadata": {
        "id": "0DZ40ygAzR-7",
        "outputId": "5ce9afce-7d20-49be-f09e-409535f38eae",
        "colab": {
          "base_uri": "https://localhost:8080/"
        }
      },
      "execution_count": 58,
      "outputs": [
        {
          "output_type": "stream",
          "name": "stdout",
          "text": [
            "bajanorte: 6.102944458333333\n",
            "mexico: 3.25327154028436\n",
            "yucatan: 2.8355111487603306\n",
            "sanluis: 6.4077079947089945\n",
            "puebla: 2.5310431886792455\n",
            "bajacaliforniasur: 5.428527422535211\n",
            "nuevoleon: 3.7450229677419355\n",
            "veracruz: 7.459467550561798\n",
            "sonora: 4.4051554137931035\n",
            "chiapas: 1.43973075\n"
          ]
        }
      ]
    },
    {
      "cell_type": "markdown",
      "source": [
        "En conclusión, México fue de los que en K-means fue los menores en la mayoría de las variables numéricas y bajaNorte de las mayores. Ya se verá en el análisis de la siguiente entrega la dependencia con los datos de salida."
      ],
      "metadata": {
        "id": "POJo5blvz58B"
      }
    }
  ]
}